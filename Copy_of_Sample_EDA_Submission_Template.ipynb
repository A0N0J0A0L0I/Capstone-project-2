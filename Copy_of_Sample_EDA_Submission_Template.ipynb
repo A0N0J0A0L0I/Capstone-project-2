{
  "nbformat": 4,
  "nbformat_minor": 0,
  "metadata": {
    "colab": {
      "private_outputs": true,
      "provenance": [],
      "collapsed_sections": [
        "mDgbUHAGgjLW",
        "QHF8YVU7Yuh3",
        "GwzvFGzlYuh3",
        "qYpmQ266Yuh3",
        "bbFf2-_FphqN",
        "_ouA3fa0phqN",
        "Seke61FWphqN",
        "t27r6nlMphqO",
        "r2jJGEOYphqO",
        "b0JNsNcRphqO",
        "1M8mcRywphqQ",
        "tgIPom80phqQ",
        "JMzcOPDDphqR",
        "X_VqEhTip1ck",
        "8zGJKyg5p1ck",
        "PVzmfK_Ep1ck",
        "ylSl6qgtp1ck",
        "ZWILFDl5p1ck",
        "M7G43BXep1ck",
        "Ag9LCva-p1cl",
        "E6MkPsBcp1cl",
        "2cELzS2fp1cl",
        "3MPXvC8up1cl",
        "NC_X3p0fY2L0",
        "UV0SzAkaZNRQ",
        "YPEH6qLeZNRQ",
        "q29F0dvdveiT",
        "EXh0U9oCveiU",
        "22aHeOlLveiV",
        "JcMwzZxoAimU",
        "8G2x9gOozGDZ",
        "gCX9965dhzqZ",
        "gIfDvo9L0UH2"
      ],
      "include_colab_link": true
    },
    "kernelspec": {
      "name": "python3",
      "display_name": "Python 3"
    },
    "language_info": {
      "name": "python"
    }
  },
  "cells": [
    {
      "cell_type": "markdown",
      "metadata": {
        "id": "view-in-github",
        "colab_type": "text"
      },
      "source": [
        "<a href=\"https://colab.research.google.com/github/A0N0J0A0L0I/Capstone-project-2/blob/main/Copy_of_Sample_EDA_Submission_Template.ipynb\" target=\"_parent\"><img src=\"https://colab.research.google.com/assets/colab-badge.svg\" alt=\"Open In Colab\"/></a>"
      ]
    },
    {
      "cell_type": "markdown",
      "source": [
        "# **Project Name**    -    AirBnb Bookings Analysis\n",
        "\n"
      ],
      "metadata": {
        "id": "vncDsAP0Gaoa"
      }
    },
    {
      "cell_type": "markdown",
      "source": [
        "##### **Project Type**    - EDA\n",
        "##### **Contribution**    - Team\n",
        "##### Team Member 1 - Patil Mansi Pravin\n",
        "##### Team Member 2 - Jadhav Janhavi Pramod\n",
        "##### Team Member 3 - Desale Anjali Pravin\n"
      ],
      "metadata": {
        "id": "beRrZCGUAJYm"
      }
    },
    {
      "cell_type": "markdown",
      "source": [
        "# **Project Summary -**"
      ],
      "metadata": {
        "id": "FJNUwmbgGyua"
      }
    },
    {
      "cell_type": "markdown",
      "source": [
        "Since its inception in 2008, Airbnb has revolutionized the travel industry by offering unique, personalized travel experiences. The platform now operates on a global scale, providing millions of listings that generate vast amounts of data. Analyzing this data is crucial for making informed business decisions, understanding customer and host behavior, and driving marketing and innovation initiatives. This project aimed to explore and analyze an Airbnb dataset comprising approximately 49,000 observations and 16 columns, containing both categorical and numeric values. The objective was to extract key insights to enhance business strategies and improve user experiences.\n",
        "\n",
        "Data and Methodology\n",
        "The analysis utilized the following libraries:\n",
        "\n",
        "Pandas for data manipulation and aggregation.\n",
        "Matplotlib and Seaborn for visualization.\n",
        "NumPy for computational efficiency.\n",
        "The dataset provided information on various attributes such as listing name, host details, location, room type, price, minimum nights required, number of reviews, last review date, reviews per month, availability, and more. These attributes were analyzed to uncover patterns and relationships that could inform Airbnb's business strategies.\n",
        "\n",
        "Key Analyses and Visualizations\n",
        "\n",
        "Price Distribution by Room Type:\n",
        "A box plot was created to visualize the distribution of prices across different room types (entire home/apt, private room, shared room). The analysis revealed that entire homes/apartments have higher price ranges compared to private or shared rooms. This insight can help Airbnb and hosts set competitive pricing strategies and identify premium property segments.\n",
        "\n",
        "Review Patterns:\n",
        "A scatter plot was used to explore the relationship between the number of reviews and the last review date. Listings with more recent reviews tend to have higher overall review counts, indicating that active engagement with guests leads to more reviews and better visibility. This emphasizes the importance of maintaining consistent guest interaction to boost listing performance.\n",
        "\n",
        "Availability Analysis:\n",
        "The availability of listings throughout the year was analyzed using a scatter plot of listing names versus availability days. This analysis highlighted the varying availability of listings, providing insights into optimizing calendar settings to maximize bookings during peak seasons. Hosts can adjust their availability to align with demand trends, ensuring higher occupancy rates.\n",
        "\n",
        "Minimum Nights Requirement:\n",
        "A bar chart was created to illustrate the variation in minimum nights required across listings. The analysis showed that lower minimum night requirements could attract more bookings, especially from travelers seeking shorter stays. This insight helps hosts set attractive conditions to increase booking frequency.\n",
        "\n",
        "Correlation Analysis:\n",
        "A heatmap was generated to identify correlations between various attributes. The analysis revealed strong correlations between the number of reviews and reviews per month, indicating that consistent guest feedback is linked to higher review counts. Understanding these correlations helps in identifying key factors that influence listing performance.\n",
        "\n",
        "Business Impact\n",
        "The insights gained from this analysis have significant implications for Airbnb's business strategies:\n",
        "\n",
        "Optimizing Pricing: Understanding price distributions across room types helps in setting competitive prices that attract more guests while maximizing revenue.\n",
        "\n",
        "Enhancing Guest Engagement: Active guest engagement, as evidenced by recent reviews, leads to higher visibility and more bookings. Encouraging hosts to maintain consistent interaction with guests can improve listing performance.\n",
        "\n",
        "Maximizing Availability: Analyzing availability patterns helps hosts optimize their calendar settings to align with peak demand periods, ensuring higher occupancy rates.\n",
        "Setting Attractive Booking Conditions: Lowering minimum night requirements can attract more bookings, especially from short-term travelers, increasing overall booking frequency.\n",
        "Potential Negative Growth Areas\n",
        "While the analysis provides several positive insights, it also highlights potential areas for negative growth:\n",
        "\n",
        "High Minimum Night Requirements: Listings with high minimum night requirements may deter short-term travelers, leading to lower booking rates.\n",
        "\n",
        "Outdated Reviews: Listings with outdated or no recent reviews may struggle to attract new guests. Consistent guest engagement and review collection are crucial for maintaining listing attractiveness.\n",
        "\n",
        "Conclusion\n",
        "\n",
        "The Airbnb data analysis project provided valuable insights into pricing strategies, guest engagement, availability optimization, and booking requirements. These findings guide Airbnb and its hosts in making data-driven decisions to enhance listings, improve guest experiences, and drive business growth. Addressing potential negative growth areas and leveraging key insights will help Airbnb maintain its competitive edge and continue innovating in the travel market."
      ],
      "metadata": {
        "id": "F6v_1wHtG2nS"
      }
    },
    {
      "cell_type": "markdown",
      "source": [
        "# **GitHub Link -**"
      ],
      "metadata": {
        "id": "w6K7xa23Elo4"
      }
    },
    {
      "cell_type": "markdown",
      "source": [
        "https://github.com/A0N0J0A0L0I/Capstone-project-2/blob/main/Copy_of_Sample_EDA_Submission_Template.ipynb"
      ],
      "metadata": {
        "id": "wmZih6-j_D_H"
      }
    },
    {
      "cell_type": "markdown",
      "source": [
        "# **Problem Statement**\n"
      ],
      "metadata": {
        "id": "yQaldy8SH6Dl"
      }
    },
    {
      "cell_type": "markdown",
      "source": [
        "**Write Problem Statement Here.**\n",
        "\n",
        "Design and implement a recommendation system for Airbnb listings to enhance user experience, increase booking rates, and improve customer satisfaction.\n",
        "\n"
      ],
      "metadata": {
        "id": "DpeJGUA3kjGy"
      }
    },
    {
      "cell_type": "markdown",
      "source": [
        "#### **Define Your Business Objective?**"
      ],
      "metadata": {
        "id": "PH-0ReGfmX4f"
      }
    },
    {
      "cell_type": "markdown",
      "source": [
        "The business objective for an Airbnb project may involve improving user experience, increasing booking rates, and enhancing customer satisfaction. This could encompass goals such as developing a recommendation system to suggest personalized accommodation options, optimizing the search and booking process for users, and analyzing feedback and rating data to improve the quality and desirability of listed properties. Ultimately, the primary business objective is to create a platform that fosters positive experiences for both hosts and guests, resulting in higher user engagement, increased booking rates, and greater customer satisfaction."
      ],
      "metadata": {
        "id": "PhDvGCAqmjP1"
      }
    },
    {
      "cell_type": "markdown",
      "source": [
        "# **General Guidelines** : -  "
      ],
      "metadata": {
        "id": "mDgbUHAGgjLW"
      }
    },
    {
      "cell_type": "markdown",
      "source": [
        "1.   Well-structured, formatted, and commented code is required.\n",
        "2.   Exception Handling, Production Grade Code & Deployment Ready Code will be a plus. Those students will be awarded some additional credits.\n",
        "     \n",
        "     The additional credits will have advantages over other students during Star Student selection.\n",
        "       \n",
        "             [ Note: - Deployment Ready Code is defined as, the whole .ipynb notebook should be executable in one go\n",
        "                       without a single error logged. ]\n",
        "\n",
        "3.   Each and every logic should have proper comments.\n",
        "4. You may add as many number of charts you want. Make Sure for each and every chart the following format should be answered.\n",
        "        \n",
        "\n",
        "```\n",
        "# Chart visualization code\n",
        "```\n",
        "            \n",
        "\n",
        "*   Why did you pick the specific chart?\n",
        "*   What is/are the insight(s) found from the chart?\n",
        "* Will the gained insights help creating a positive business impact?\n",
        "Are there any insights that lead to negative growth? Justify with specific reason.\n",
        "\n",
        "5. You have to create at least 20 logical & meaningful charts having important insights.\n",
        "\n",
        "\n",
        "[ Hints : - Do the Vizualization in  a structured way while following \"UBM\" Rule.\n",
        "\n",
        "U - Univariate Analysis,\n",
        "\n",
        "B - Bivariate Analysis (Numerical - Categorical, Numerical - Numerical, Categorical - Categorical)\n",
        "\n",
        "M - Multivariate Analysis\n",
        " ]\n",
        "\n",
        "\n",
        "\n"
      ],
      "metadata": {
        "id": "ZrxVaUj-hHfC"
      }
    },
    {
      "cell_type": "markdown",
      "source": [
        "# ***Let's Begin !***"
      ],
      "metadata": {
        "id": "O_i_v8NEhb9l"
      }
    },
    {
      "cell_type": "markdown",
      "source": [
        "## ***1. Know Your Data***"
      ],
      "metadata": {
        "id": "HhfV-JJviCcP"
      }
    },
    {
      "cell_type": "markdown",
      "source": [
        "### Import Libraries"
      ],
      "metadata": {
        "id": "Y3lxredqlCYt"
      }
    },
    {
      "cell_type": "code",
      "source": [
        "# Import Libraries\n",
        "import pandas as pd\n",
        "import numpy as np\n",
        "import matplotlib\n",
        "import matplotlib.pyplot as plt\n",
        "import seaborn as sns\n",
        "import math\n",
        "import openpyxl\n",
        "pd.set_option('display.max_columns', 200)"
      ],
      "metadata": {
        "id": "M8Vqi-pPk-HR"
      },
      "execution_count": null,
      "outputs": []
    },
    {
      "cell_type": "markdown",
      "source": [
        "### Dataset Loading"
      ],
      "metadata": {
        "id": "3RnN4peoiCZX"
      }
    },
    {
      "cell_type": "code",
      "source": [
        "# Load Dataset\n",
        "from google.colab import drive\n",
        "drive.mount(\"/content/drive\")"
      ],
      "metadata": {
        "id": "4CkvbW_SlZ_R"
      },
      "execution_count": null,
      "outputs": []
    },
    {
      "cell_type": "markdown",
      "source": [
        "### Dataset First View"
      ],
      "metadata": {
        "id": "x71ZqKXriCWQ"
      }
    },
    {
      "cell_type": "code",
      "source": [
        "# Dataset First Look\n",
        "import pandas as pd\n",
        "\n",
        "# Load a dataset into a Pandas DataFrame\n",
        "df = pd.read_csv('/content/drive/MyDrive/Classroom/Almabetter/Airbnb NYC 2019.csv')  # Load a CSV file (replace 'file_path.csv' with the actual file path)"
      ],
      "metadata": {
        "id": "LWNFOSvLl09H"
      },
      "execution_count": null,
      "outputs": []
    },
    {
      "cell_type": "code",
      "source": [
        "df.head()"
      ],
      "metadata": {
        "id": "_nYI0Z1A4Sk-"
      },
      "execution_count": null,
      "outputs": []
    },
    {
      "cell_type": "markdown",
      "source": [
        "As we can see hear is a first look of our dataset on which we will be working.let's dive deep into it"
      ],
      "metadata": {
        "id": "DyOXiIEjlnW_"
      }
    },
    {
      "cell_type": "markdown",
      "source": [
        "### Dataset Rows & Columns count"
      ],
      "metadata": {
        "id": "7hBIi_osiCS2"
      }
    },
    {
      "cell_type": "code",
      "source": [
        "# Dataset Rows & Columns count\n",
        "num_rows, num_cols = df.shape\n",
        "print(\"Number of rows:\", num_rows)\n",
        "print(\"Number of columns:\", num_cols)"
      ],
      "metadata": {
        "id": "Kllu7SJgmLij"
      },
      "execution_count": null,
      "outputs": []
    },
    {
      "cell_type": "markdown",
      "source": [
        "Looking at the shape of our dataset we can see that the number of rows is significantly high as compared to the number of columns. We have:- rows = 48895 columns = 16"
      ],
      "metadata": {
        "id": "6KZdVcsDmj1T"
      }
    },
    {
      "cell_type": "markdown",
      "source": [
        "### Dataset Information"
      ],
      "metadata": {
        "id": "JlHwYmJAmNHm"
      }
    },
    {
      "cell_type": "code",
      "source": [
        "# Dataset\n",
        "df.info()"
      ],
      "metadata": {
        "id": "e9hRXRi6meOf"
      },
      "execution_count": null,
      "outputs": []
    },
    {
      "cell_type": "markdown",
      "source": [
        "Here we can see the division of Categorical and Numerical values in our dataset, We can see:-\n",
        "\n",
        "3 columns have float64 data values (Numerical)\n",
        "\n",
        "7 columns have int64 data type values (Numerical)\n",
        "\n",
        "6 columns have object data type values (Categorical)"
      ],
      "metadata": {
        "id": "ctFj5jeAmu-7"
      }
    },
    {
      "cell_type": "markdown",
      "source": [
        "#### Duplicate Values"
      ],
      "metadata": {
        "id": "35m5QtbWiB9F"
      }
    },
    {
      "cell_type": "code",
      "source": [
        "# Dataset Duplicate Value Count\n",
        "duplicate_count = df.duplicated().sum()\n",
        "print(\"Number of duplicate rows:\", duplicate_count)"
      ],
      "metadata": {
        "id": "1sLdpKYkmox0"
      },
      "execution_count": null,
      "outputs": []
    },
    {
      "cell_type": "markdown",
      "source": [
        "With this we can see that there are no exact duplicate values, however we need to check for other columns as well, like id and name, as these values are not likely to be same."
      ],
      "metadata": {
        "id": "ECSyx91Imzqj"
      }
    },
    {
      "cell_type": "markdown",
      "source": [
        "#### Missing Values/Null Values"
      ],
      "metadata": {
        "id": "PoPl-ycgm1ru"
      }
    },
    {
      "cell_type": "code",
      "source": [
        "# Missing Values/Null Values Count\n",
        "missing_values_count = df.isnull().sum()\n",
        "print(\"Count of missing values in each column:\")\n",
        "print(missing_values_count)"
      ],
      "metadata": {
        "id": "GgHWkxvamxVg"
      },
      "execution_count": null,
      "outputs": []
    },
    {
      "cell_type": "markdown",
      "source": [
        "As we can see we were having missing values in name and host_name columns, however as we are having their respective ids we will still be able to manage the data, however let us check for outliers."
      ],
      "metadata": {
        "id": "yeHP9PIZniKb"
      }
    },
    {
      "cell_type": "code",
      "source": [
        "# Visualizing the missing values using heatmap\n",
        "plt.figure(figsize=(12, 6))\n",
        "sns.heatmap(df.isnull(), cbar=False, cmap='viridis')\n",
        "plt.title('Heatmap of Missing Values')\n",
        "plt.show()\n",
        "\n",
        "# Visualize missing values using a bar plot\n",
        "missing_values = df.isnull().sum()\n",
        "plt.figure(figsize=(12, 6))\n",
        "missing_values.plot(kind='bar', color='skyblue')\n",
        "plt.title('Missing Values Count')\n",
        "plt.xlabel('Columns')\n",
        "plt.ylabel('Number of Missing Values')\n",
        "plt.grid(axis='y')\n",
        "plt.show()"
      ],
      "metadata": {
        "id": "3q5wnI3om9sJ"
      },
      "execution_count": null,
      "outputs": []
    },
    {
      "cell_type": "markdown",
      "source": [
        "### What did you know about your dataset?\n",
        "\n",
        "The Airbnb NYC 2019 Dataset has:- Rows = 48895 Columns = 16\n",
        "\n",
        "We can see the division of Categorical and Numerical values in our dataset, We can see:-\n",
        "\n",
        "3 columns have float64 data values (Numerical) 7 columns have int64 data type values (Numerical) 6 columns have object data type values (Categorical)\n",
        "\n",
        "The dataset contains both numerical and categorical data.\n",
        "\n",
        "The primary key of our dataset is the \"id\" column, having a unique IDs for the hotel names.\n",
        "\n",
        "Here is the list of columns:- ['id', 'name', 'host_id', 'host_name', 'neighbourhood_group', 'neighbourhood', 'latitude', 'longitude', 'room_type', 'price', 'minimum_nights', 'number_of_reviews', 'last_review', 'reviews_per_month', 'calculated_host_listings_count', 'availability_365']\n",
        "\n",
        "This dataset had no exact duplicated values, however in the name column there were 998 rows that were duplicates. Where all the values were almost the same, except for the prices, there might be a chances that the prices were altered with time as per the market condition however the hotel was the same.\n",
        "\n",
        "To handle these values we sorted our dataframe on the basis of latest entries, for which we needed a timestamp in our dataset. In our dataset we were able to use the 'last_review' column as the timestamp for our dataset.\n",
        "\n",
        "After doing few operation we were successfully able to handle our duplicated values.\n",
        "\n",
        "These are columns that majorly has the null values:-\n",
        "\n",
        "\n",
        " • last_review = 10052\n",
        "\n",
        " • reviews_per_month = 10052\n",
        "\n",
        "As the date column was missing values we replaced the NA values with the latest date present in our dataset, so that the time stamp could be efficient.\n",
        "\n",
        "We are also missing few \"Names\" as well as \"Host Names\":-\n",
        "\n",
        " • name = 16\n",
        "\n",
        " • host_name = 21\n",
        "\n",
        "We have now successfully formatted our dataframe and it is now ready for data wrangling."
      ],
      "metadata": {
        "id": "H0kj-8xxnORC"
      }
    },
    {
      "cell_type": "markdown",
      "source": [
        "## ***2. Understanding Your Variables***"
      ],
      "metadata": {
        "id": "nA9Y7ga8ng1Z"
      }
    },
    {
      "cell_type": "code",
      "source": [
        "# Dataset Columns\n",
        "columns = df.columns\n",
        "print(\"Columns in the DataFrame:\")\n",
        "print(columns)"
      ],
      "metadata": {
        "id": "j7xfkqrt5Ag5"
      },
      "execution_count": null,
      "outputs": []
    },
    {
      "cell_type": "markdown",
      "source": [
        "There are basically 3 types of variables according to their roles:-\n",
        "\n",
        "Numerical Variables:These variables represent quantitative data and can be further categorized into:-\n",
        "\n",
        "Continuous Variables: These variables can take any value within the given number of range.\n",
        "\n",
        "Discrete Variables: These variables are having a specific value and are related to a specific identity.\n",
        "\n",
        "Categorical Variables:These variables represent qualitative data and can be further categorized into:-\n",
        "\n",
        "Nominal Variables: These variables are random and they do not follow any order or ranking.\n",
        "\n",
        "Ordinal Variables: These variables are according to an order they can be ranked as well.\n",
        "\n",
        "Time Variables: These variables are basically date and time variables having a timestamp."
      ],
      "metadata": {
        "id": "HEplxibNoBZd"
      }
    },
    {
      "cell_type": "code",
      "source": [
        "# Dataset Describe\n",
        "df.describe()"
      ],
      "metadata": {
        "id": "5eLYFdNK8nmh"
      },
      "execution_count": null,
      "outputs": []
    },
    {
      "cell_type": "markdown",
      "source": [
        "### Variables Description"
      ],
      "metadata": {
        "id": "PBTbrJXOngz2"
      }
    },
    {
      "cell_type": "markdown",
      "source": [
        "As we can see that we are having various outputs that can be studied so as to attain certain measures and draw conclusions on the basis of the data. For example: we have a wide range of prices available, however the average price range prefered by the customers are around 150, which gives us an idea on the budget of the guests and their preference.\n",
        "\n"
      ],
      "metadata": {
        "id": "aJV4KIxSnxay"
      }
    },
    {
      "cell_type": "markdown",
      "source": [
        "### Check Unique Values for each variable."
      ],
      "metadata": {
        "id": "u3PMJOP6ngxN"
      }
    },
    {
      "cell_type": "code",
      "source": [
        "# Check Unique Values for each variable.\n",
        "def unique_value(df):\n",
        "  for column in df.columns:\n",
        "    unique_values = df[column].unique()\n",
        "    print(f\"Unique values for '{column}': {unique_values}\")"
      ],
      "metadata": {
        "id": "Vp6mzJMVoNI7"
      },
      "execution_count": null,
      "outputs": []
    },
    {
      "cell_type": "markdown",
      "source": [
        "## 3. ***Data Wrangling***"
      ],
      "metadata": {
        "id": "dauF4eBmngu3"
      }
    },
    {
      "cell_type": "markdown",
      "source": [
        "### Data Wrangling Code"
      ],
      "metadata": {
        "id": "bKJF3rekwFvQ"
      }
    },
    {
      "cell_type": "code",
      "source": [
        "# Let's create a new column with the price range distribution.\n",
        "# We will use it while working with the price column.\n",
        "start = 0\n",
        "end = 10000\n",
        "breakpoints = np.linspace(start, end, num=101)\n",
        "breakpoints = breakpoints.astype(int)\n",
        "def number_of_reviews_range(amt):\n",
        "    bp = breakpoints\n",
        "    for i in range(len(breakpoints)-1):\n",
        "        if bp[i] <= amt <= bp[i+1]:\n",
        "            return f\"{bp[i]} - {bp[i+1]}\"\n",
        "\n",
        "\n",
        "df['number_of_reviews_range'] = df['number_of_reviews'].apply(lambda amt: number_of_reviews_range(amt))\n",
        "df['number_of_reviews_range']"
      ],
      "metadata": {
        "id": "WTSoKxPMpcUN"
      },
      "execution_count": null,
      "outputs": []
    },
    {
      "cell_type": "markdown",
      "source": [
        "**Creating this price range column can provide us these benefits:-**\n",
        "\n",
        "Data Summarization: As this will provide an effective summary of the price distribution in our dataset.\n",
        "\n",
        "Visualization: on a price range instead of individual price column is much more effective.\n",
        "\n",
        "Segmentation and Analysis: As it will divide the prices into different segments it would be really easy to compare the prices into different segments or ranges.\n",
        "\n",
        "Decision Making: It can help us in various decisions making, into different scenarios, like we can use this info to provide recommendations to the customers according to their budget and rerquirements.\n",
        "\n",
        "Communicating Insights: Price range can easily communicate the budget and preferences of our customers and it can also tell us where does the majority of our cutomers lies, according to their purchasing power."
      ],
      "metadata": {
        "id": "FLkUhjSGpbzr"
      }
    },
    {
      "cell_type": "code",
      "source": [
        "# Let's take a look at our dataset once.\n",
        "df.head()\n",
        "\n",
        "# As we can see our dataset is sorted according to the last review, let us sort our dataset according to the price.\n",
        "df.sort_values(by='number_of_reviews', ascending=False, inplace=True)\n",
        "\n",
        "# Let's take a look at our price sorted dataset once.\n",
        "df.head()"
      ],
      "metadata": {
        "id": "LqphFS43p1gJ"
      },
      "execution_count": null,
      "outputs": []
    },
    {
      "cell_type": "code",
      "source": [
        "# Let us check our columns and filter those columns that will work as our features.\n",
        "df.columns"
      ],
      "metadata": {
        "id": "0EknkVADq-QV"
      },
      "execution_count": null,
      "outputs": []
    },
    {
      "cell_type": "code",
      "source": [
        "# Let filter the dataframe with only the required columns.\n",
        "feature_df = df[['id', 'name', 'host_id', 'neighbourhood_group',\n",
        "       'neighbourhood', 'room_type', 'price', 'minimum_nights',\n",
        "       'number_of_reviews', 'reviews_per_month', 'calculated_host_listings_count',\n",
        "       'availability_365', 'number_of_reviews_range']]\n",
        "\n",
        "feature_df = feature_df.reset_index(drop=True)\n",
        "feature_df.head()"
      ],
      "metadata": {
        "id": "0YHIRaT90l5Y"
      },
      "execution_count": null,
      "outputs": []
    },
    {
      "cell_type": "markdown",
      "source": [
        "As we can see we are having few groups in our datasets, let us check what all insights we can derive from them, by seeking information according to the groups."
      ],
      "metadata": {
        "id": "hCWudKFQqDMH"
      }
    },
    {
      "cell_type": "code",
      "source": [
        "# Let's check the top performing Host as per the total listing count\n",
        "host_groups = feature_df.groupby('name')\n",
        "hosts = []\n",
        "no_of_listings = []\n",
        "host_prices = []\n",
        "for host, data in host_groups:\n",
        "  hosts.append(host)\n",
        "  no_of_listings.append(data['calculated_host_listings_count'].sum())\n",
        "  host_prices.append(data['price'].mean())\n",
        "\n",
        "host_df = pd.DataFrame({\n",
        "    'Host Name': hosts,\n",
        "    'Total Listings': no_of_listings,\n",
        "    'Price': host_prices\n",
        "})\n",
        "host_df = host_df.sort_values(by='Total Listings', ascending=False).reset_index(drop=True)\n",
        "host_df = host_df.drop_duplicates(subset='Total Listings').reset_index(drop=True)\n",
        "top_10_hosts = host_df.head(10)\n",
        "\n",
        "host_df['Revenue'] = (host_df['Total Listings'])*(host_df['Price'])\n",
        "top_host_revenue = host_df.sort_values(by='Revenue', ascending=False).reset_index(drop=True)\n",
        "top_host_revenue.head(10)"
      ],
      "metadata": {
        "id": "bgBCcQJYsUm1"
      },
      "execution_count": null,
      "outputs": []
    },
    {
      "cell_type": "code",
      "source": [
        "# First let's check how many neighbourhood_groups are there.\n",
        "feature_df['neighbourhood_group'].unique() # There are 5 different groups.\n",
        "\n",
        "# ['Brooklyn', 'Queens', 'Manhattan', 'Staten Island', 'Bronx']\n",
        "#  let's group our dataset according to the neighbourhood groups.\n",
        "\n",
        "n_groups = feature_df.groupby('neighbourhood_group')\n",
        "\n",
        "# Let's check which group is most prefered as per the listings, and no. of reviews.\n",
        "groups = [] # To save the groups\n",
        "listings = []\n",
        "reviews = []\n",
        "max_price = []\n",
        "min_price = []\n",
        "for group, data in n_groups:\n",
        "  groups.append(group)\n",
        "  listings.append(data['calculated_host_listings_count'].sum())\n",
        "  reviews.append(data['number_of_reviews'].sum())\n",
        "  max_price.append(data['price'].max())\n",
        "  min_price.append(data['price'].min())\n",
        "\n",
        "group_feat_df = pd.DataFrame({\n",
        "    'Group': groups,\n",
        "    'Listing Count': listings,\n",
        "    'No._of_reviews': reviews,\n",
        "    'Min Price': min_price,\n",
        "    'Max Price': max_price\n",
        "})\n",
        "\n",
        "group_feat_df\n",
        "# Here we can see that Manhattan group is the most prefered group as per the listings.\n",
        "# However the most reviews are given to the Brooklyn group.\n",
        "\n",
        "# Now let's divide our dataset as per the room types, and create their groups.\n",
        "# First let's check how room_types are there.\n",
        "\n",
        "feature_df['room_type'].unique() # There are 3 room types.\n",
        "\n",
        "# ['Entire home/apt', 'Private room', 'Shared room']\n",
        "#  let's group our dataset according to the room types.\n",
        "\n",
        "room_groups = feature_df.groupby('room_type')\n",
        "rooms = []\n",
        "room_listings = []\n",
        "room_reviews = []\n",
        "max_room_price = []\n",
        "min_room_price = []\n",
        "for room_type, room_data in room_groups:\n",
        "    rooms.append(room_type)\n",
        "    room_listings.append(room_data['calculated_host_listings_count'].sum())\n",
        "    max_room_price.append(room_data['price'].max())\n",
        "    min_room_price.append(room_data['price'].min())\n",
        "\n",
        "room_feat_df = pd.DataFrame({\n",
        "    'Group': rooms,\n",
        "    'Listing Count': room_listings,\n",
        "    'Min Price': min_room_price,\n",
        "    'Max Price': max_room_price\n",
        "})\n",
        "\n",
        "room_feat_df\n",
        "# Here we can see the most prefered room type is the Entire home/apt.\n",
        "# The most reviews are also given to the Entire home/apt.\n",
        "# Shared rooms are the least prefered."
      ],
      "metadata": {
        "id": "JItExI6S2RCY"
      },
      "execution_count": null,
      "outputs": []
    },
    {
      "cell_type": "code",
      "source": [
        "# Now let us check how many different neighbourhoods are there in total.\n",
        "feature_df['neighbourhood'].count() # There are 48655 neighbourhoods\n",
        "\n",
        "# Now let us check what are the top 10 most prefered neighbourhoods.\n",
        "# Also, let's check their average pricing and average price range.\n",
        "area_groups = feature_df.groupby('neighbourhood')\n",
        "areas = []\n",
        "listing_count = []\n",
        "avg_price = []\n",
        "for area, n_data in area_groups:\n",
        "  areas.append(area)\n",
        "  listing_count.append(n_data['calculated_host_listings_count'].sum())\n",
        "  avg_price.append(round(n_data['price'].mean(), 2))\n",
        "\n",
        "area_feat_df = pd.DataFrame({\n",
        "    'Area': areas,\n",
        "    'Listing Count': listing_count,\n",
        "    'Average Price': avg_price,\n",
        "})\n",
        "\n",
        "area_feat_df = area_feat_df.sort_values(by='Listing Count', ascending=False).reset_index(drop=True)\n",
        "area_feat_df.head(10)"
      ],
      "metadata": {
        "id": "5rHPYQCct89D"
      },
      "execution_count": null,
      "outputs": []
    },
    {
      "cell_type": "markdown",
      "source": [
        "In the above manipulations we have created and worked with few groups that were there in our dataset, based upon which we were able to derive few insights"
      ],
      "metadata": {
        "id": "ZWB3-HkGqU8K"
      }
    },
    {
      "cell_type": "code",
      "source": [
        "# Let us now work with relationships.\n",
        "# Relationship: Price vs. Room Type\n",
        "# Checking the distribution of prices for different room types.\n",
        "# \"room_groups\" is our grouped dataframe we will be using this.\n",
        "\n",
        "avg_room_price = []\n",
        "for room, data in room_groups:\n",
        "  avg_room_price.append(data['price'].mean())\n",
        "\n",
        "room_vs_price = pd.DataFrame({\n",
        "    'Room Type': rooms,\n",
        "    'Avg_Price': avg_room_price\n",
        "})\n",
        "\n",
        "room_vs_price\n",
        "\n",
        "# As we can see here the Entire home/apt is having the highest pricing."
      ],
      "metadata": {
        "id": "kVTVTZ3GuPG0"
      },
      "execution_count": null,
      "outputs": []
    },
    {
      "cell_type": "code",
      "source": [
        "# Relationship: Reviews per Month vs. Room Type\n",
        "# Comparing the distribution of reviews per month for different room types.\n",
        "\n",
        "total_reviews = []\n",
        "for room, data in room_groups:\n",
        "  total_reviews.append(data['reviews_per_month'].sum())\n",
        "\n",
        "room_vs_reviews = pd.DataFrame({\n",
        "    'Room Type': rooms,\n",
        "    'Reviews': total_reviews\n",
        "})\n",
        "\n",
        "room_vs_reviews\n",
        "# As we can see here the Entire home/apt is having the highest no. of reviews per month."
      ],
      "metadata": {
        "id": "QGjikRttuY8e"
      },
      "execution_count": null,
      "outputs": []
    },
    {
      "cell_type": "markdown",
      "source": [
        "### What all manipulations have you done and insights you found?"
      ],
      "metadata": {
        "id": "MSa1f5Uengrz"
      }
    },
    {
      "cell_type": "markdown",
      "source": [
        "This dataset was having good amount of well distributed information, which was a plus point for our study. As this dataset if of Airbnb, the locations play a very crucial role in these values and the inforamtion was distributed well as per the locations and their respective areas.\n",
        "\n",
        "We have done number of manipulations to seek information which can be beneficial for the stake holders to make decisions for the business, not only that our hosts will also get good idea about the preferences of their customers, as we promised in our agenda.\n",
        "\n",
        "We divided the complete manipulation into 2 major parts, as per the features and the relationships, so that we can draw insights accordingly.                                                                                                                \n",
        "\n",
        "These are the manipulations we followed:-\n",
        "\n",
        "   • Created a new price range column: As this columns will help us to categorize the price distribution and to simplify the judgement for us to get an idea of the budget of our customer, we have tried to keep it as precise as possible.\n",
        "\n",
        "   • Sorted the dataset as per price: As the data wasn't sorted and was not having any significance regaring any value, we sorted it as per the pricing, keep the most expensive ones on the top.\n",
        "\n",
        "   • We filtered the data so that it becomes simple and easy to understand(less chaotic) for us to work only with those columns that are required for the data analysis and feature engineering.\n",
        "\n",
        "   • Divided the data accoring to the categorical groups to derive insights accordingly, it helped us to identify the outcomes in a structed manner with respect to the considered groups, it provided us with more specific information about the different groups we created so that we can identify insights for each group individually. These are the diferent groups we created and worked with:-\n",
        "\n",
        "     • Created Nighbourhood Group: This group helped us to get an idea of which neighbourhood is the most prefered one in all of the neighbourhoods.\n",
        "\n",
        "     • Created room type groups: This group helped us to identify which room type is the most prefered by our customers.\n",
        "\n",
        "     • Created Neighbourhood area groups: This group helped us to identify which is the most prefered area within the neighbourhoods.\n",
        "\n",
        "We also worked on few of the relationships that helped us in few comparisons that will help our stake holders to make decisions accordingly. These are the relationships we worked with:-                                                                                                                                       \n",
        "• Relationship: Price vs. Room Type\n",
        "\n",
        "     • Checked the distribution of prices for different room types.\n",
        "     • Determined which room type is having the most expensive price distribution.\n",
        "\n",
        "• Relationship: Reviews per Month vs. Room Type\n",
        "\n",
        "     • Compared the distribution of reviews per month for different room types.\n",
        "     • Explored the level of engagement and satisfaction of our customers as per different room types.\n",
        "• Relationship: Price vs. Neighbourhood\n",
        "\n",
        "     •Compared the distribution of prices across different neighbourhoods.\n",
        "     •Identified neighbourhoods with higher or lower average prices and explored price variations as per the areas.\n",
        "These are the manipulations that we did in order to derive useful information so that it can contribute into the growth of our business and also the busniness of our hosts, and ultimately grow and improve tavelling experience for our customers.\n",
        "\n",
        "The specifilly derived insights will be mentioned with the visualisations so that it would be better to understand and visualize at the same time."
      ],
      "metadata": {
        "id": "LbyXE7I1olp8"
      }
    },
    {
      "cell_type": "markdown",
      "source": [
        "## ***4. Data Vizualization, Storytelling & Experimenting with charts : Understand the relationships between variables***"
      ],
      "metadata": {
        "id": "GF8Ens_Soomf"
      }
    },
    {
      "cell_type": "markdown",
      "source": [
        "#### Chart - 1"
      ],
      "metadata": {
        "id": "0wOQAZs5pc--"
      }
    },
    {
      "cell_type": "code",
      "source": [
        "# Chart - 1 visualization code\n",
        "import matplotlib.pyplot as plt\n",
        "import seaborn as sns\n",
        "\n",
        "# Set the style for the plot\n",
        "sns.set(style=\"whitegrid\")\n",
        "\n",
        "# Create the histogram for listing prices\n",
        "plt.figure(figsize=(10, 6))\n",
        "sns.histplot(df['price'], bins=50, kde=True)\n",
        "\n",
        "# Set the title and labels\n",
        "plt.title('Distribution of Listing Prices', fontsize=15)\n",
        "plt.xlabel('reviews per month', fontsize=12)\n",
        "plt.ylabel('count', fontsize=12)\n",
        "\n",
        "# Show the plot\n",
        "plt.show()\n"
      ],
      "metadata": {
        "id": "7v_ESjsspbW7"
      },
      "execution_count": null,
      "outputs": []
    },
    {
      "cell_type": "markdown",
      "source": [
        "##### 1. Why did you pick the specific chart?"
      ],
      "metadata": {
        "id": "K5QZ13OEpz2H"
      }
    },
    {
      "cell_type": "markdown",
      "source": [
        "The specific chart was chosen based on the preliminary analysis and the structure of the data. Let's consider the insights and the type of data we have:\n",
        "\n",
        "Distribution of Listings by Neighborhood:\n",
        "\n",
        "Reason for Choice: Understanding the distribution of Airbnb listings across different neighborhoods can give insights into where most properties are concentrated. This is useful for both potential guests and hosts.\n",
        "Type of Data: Categorical (neighborhoods) with counts (number of listings).\n",
        "Chart Type: Bar Chart.\n",
        "Why: A bar chart is suitable for comparing the number of listings across different neighborhoods, making it easy to see which neighborhoods have the highest or lowest number of listings.\n",
        "Price Distribution:\n",
        "\n",
        "Reason for Choice: Analyzing the distribution of listing prices helps in understanding the market range and identifying average pricing.\n",
        "Type of Data: Continuous (prices).\n",
        "Chart Type: Histogram.\n",
        "Why: A histogram is ideal for showing the distribution of numerical data, allowing us to see the frequency of listings within different price ranges.\n",
        "Availability by Room Type:\n",
        "\n",
        "Reason for Choice: It's important to know how availability varies with different room types (e.g., entire home/apt, private room, shared room).\n",
        "Type of Data: Categorical (room types) and continuous (availability).\n",
        "Chart Type: Box Plot.\n",
        "Why: A box plot can show the distribution and spread of availability for each room type, highlighting medians, quartiles, and potential outliers.\n",
        "Each of these charts provides a clear and visual way to extract meaningful insights from the data:\n",
        "\n",
        "Bar Chart: Highlights the popularity and concentration of listings in various neighborhoods.\n",
        "Histogram: Illustrates the pricing structure and can identify common price points or outliers.\n",
        "Box Plot: Shows availability trends and variability across different room types."
      ],
      "metadata": {
        "id": "XESiWehPqBRc"
      }
    },
    {
      "cell_type": "markdown",
      "source": [
        "##### 2. What is/are the insight(s) found from the chart?"
      ],
      "metadata": {
        "id": "lQ7QKXXCp7Bj"
      }
    },
    {
      "cell_type": "markdown",
      "source": [
        "From the bar chart showing the distribution of listings by neighborhood, several insights can be drawn:\n",
        "\n",
        "Popular Neighborhoods:\n",
        "\n",
        "The chart highlights the neighborhoods with the highest number of Airbnb listings.\n",
        "We can see which neighborhoods are the most popular for Airbnb hosts, indicating areas with high tourist or guest interest.\n",
        "Market Concentration:\n",
        "\n",
        "If a few neighborhoods dominate the chart, it suggests a concentration of listings in specific areas.\n",
        "This could imply a higher competition among hosts in those areas, or these neighborhoods might be more attractive to tourists due to their location, amenities, or attractions.\n",
        "Potential Opportunities:\n",
        "\n",
        "Neighborhoods with fewer listings might indicate less competition for new hosts entering the market.\n",
        "It might also suggest areas with untapped potential where demand might not be fully met.\n",
        "Strategic Decisions:\n",
        "\n",
        "For guests, the chart helps in identifying popular neighborhoods that might offer more options for accommodation.\n",
        "For hosts, the chart provides information on where to possibly invest in new properties or where to adjust pricing based on the density of listings.\n",
        "Urban Insights:\n",
        "\n",
        "The chart can offer urban planners and local authorities insights into which areas are most impacted by short-term rentals.\n",
        "It can help in understanding the dynamics of housing and tourism in different parts of the city.\n",
        "Overall, the bar chart serves as a valuable tool for visualizing the distribution of Airbnb listings across different neighborhoods, providing actionable insights for various stakeholders in the short-term rental market.\n",
        "\n",
        "\n",
        "\n",
        "\n",
        "\n",
        "\n",
        "\n",
        "\n"
      ],
      "metadata": {
        "id": "C_j1G7yiqdRP"
      }
    },
    {
      "cell_type": "markdown",
      "source": [
        "##### 3. Will the gained insights help creating a positive business impact?\n",
        "Are there any insights that lead to negative growth? Justify with specific reason."
      ],
      "metadata": {
        "id": "448CDAPjqfQr"
      }
    },
    {
      "cell_type": "markdown",
      "source": [
        "The insights gained from the distribution of Airbnb listings by neighborhood can indeed help create a positive business impact and highlight potential areas of concern that could lead to negative growth. Here’s how:\n",
        "\n",
        "Positive Business Impact\n",
        "Targeted Marketing and Investment:\n",
        "\n",
        "Popular Neighborhoods: By identifying the neighborhoods with the highest concentration of listings, hosts and property managers can focus their marketing efforts on these areas to attract more guests.\n",
        "Untapped Markets: Neighborhoods with fewer listings may present opportunities for new investments, helping to balance the market and attract guests looking for less crowded or unique experiences.\n",
        "Strategic Pricing:\n",
        "\n",
        "Hosts can adjust their pricing strategies based on the concentration of listings in different neighborhoods. Areas with high competition might require more competitive pricing or added value services to stand out.\n",
        "Improving Guest Experience:\n",
        "\n",
        "Insights into popular areas can help hosts improve their properties and services to meet guest expectations better, ensuring high occupancy rates and positive reviews.\n",
        "Urban Development:\n",
        "\n",
        "City planners and local businesses can use the data to enhance infrastructure and amenities in popular neighborhoods, further attracting tourists and benefiting local economies.\n",
        "Potential Negative Impacts\n",
        "Over-Saturation and Competition:\n",
        "\n",
        "High Density: In neighborhoods with a very high number of listings, the market can become saturated, leading to intense competition among hosts. This might result in lower occupancy rates and reduced revenue for individual hosts.\n",
        "Declining Quality: Hosts might cut costs to stay competitive, potentially leading to a decline in the quality of accommodations and guest experiences.\n",
        "Regulatory Challenges:\n",
        "\n",
        "Impact on Housing Market: A high concentration of short-term rentals in certain neighborhoods can lead to concerns about housing affordability and availability for local residents. This can prompt stricter regulations from local governments, potentially reducing the number of listings and affecting business growth.\n",
        "Zoning Issues: Increased regulatory scrutiny and zoning law changes can impact the viability of maintaining Airbnb listings in specific neighborhoods.\n",
        "Negative Community Impact:\n",
        "\n",
        "Local Discontent: Residents in neighborhoods with a high density of Airbnb listings might experience disruptions and changes in community dynamics, leading to pushback against short-term rentals.\n",
        "Tourist Overload: High tourist traffic can strain local infrastructure and resources, leading to a less pleasant experience for both residents and visitors, potentially harming the neighborhood’s appeal in the long term.\n",
        "Justification\n",
        "Over-Saturation and Competition: Data indicating a high concentration of listings in certain neighborhoods shows the risk of oversaturation. Too many listings in one area can lead to a \"race to the bottom\" where hosts continuously lower prices, compromising quality and profitability.\n",
        "\n",
        "Regulatory Challenges: Cities like New York, San Francisco, and Barcelona have implemented stricter regulations on short-term rentals due to their impact on local housing markets and communities. Insights showing a high density of listings in specific neighborhoods might foreshadow similar regulatory challenges in other cities, impacting business growth negatively.\n",
        "\n",
        "Negative Community Impact: Reports and studies have shown that neighborhoods with an excessive number of short-term rentals often face community pushback. The insights gained can help anticipate and mitigate these issues by promoting responsible hosting practices and community engagement.\n",
        "\n",
        "Overall, while the insights can help strategically grow the business, they also highlight areas where careful management and adaptation are necessary to avoid negative growth impacts.\n",
        "\n",
        "\n",
        "\n",
        "\n",
        "\n",
        "\n"
      ],
      "metadata": {
        "id": "3cspy4FjqxJW"
      }
    },
    {
      "cell_type": "markdown",
      "source": [
        "#### Chart - 2"
      ],
      "metadata": {
        "id": "KSlN3yHqYklG"
      }
    },
    {
      "cell_type": "code",
      "source": [
        "import matplotlib.pyplot as plt\n",
        "\n",
        "# Create a histogram of prices\n",
        "plt.hist(df['price'], bins=50)\n",
        "plt.xlabel('Price ($)')\n",
        "plt.ylabel('Frequency')\n",
        "plt.title('Price Distribution')\n",
        "plt.show()"
      ],
      "metadata": {
        "id": "zmVQBs5-8YnG"
      },
      "execution_count": null,
      "outputs": []
    },
    {
      "cell_type": "markdown",
      "source": [
        "##### 1. Why did you pick the specific chart?"
      ],
      "metadata": {
        "id": "t6dVpIINYklI"
      }
    },
    {
      "cell_type": "markdown",
      "source": [
        "A histogram is an appropriate choice for visualizing the distribution of prices in an Airbnb dataset for several reasons:\n",
        "\n",
        "Distribution Insight: Histograms are excellent for displaying the distribution of a single continuous variable. In this case, you can see how Airbnb prices are spread out, whether they are skewed, and identify any common price ranges.\n",
        "\n",
        "Frequency Analysis: The histogram helps in understanding the frequency of different price ranges, which can highlight the most common price points and any outliers.\n",
        "\n",
        "Data Summarization: It provides a summary of the data in a visual format that is easy to understand, making it simpler to interpret large datasets.\n",
        "\n",
        "Outlier Detection: It's useful for identifying outliers or unusual values in the dataset, which can be important for further data cleaning or analysis."
      ],
      "metadata": {
        "id": "5aaW0BYyYklI"
      }
    },
    {
      "cell_type": "markdown",
      "source": [
        "##### 2. What is/are the insight(s) found from the chart?"
      ],
      "metadata": {
        "id": "ijmpgYnKYklI"
      }
    },
    {
      "cell_type": "markdown",
      "source": [
        "Central Tendency:\n",
        "Identify the most common price range for Airbnb listings by looking at the tallest bar in the histogram.\n",
        "\n",
        "Spread and Variability:\n",
        "Observe the spread of prices to understand how widely they vary.\n",
        "\n",
        "Skewness:\n",
        "Determine if the price distribution is skewed to the left or right, indicating the presence of very low or very high prices compared to the majority.\n",
        "\n",
        "Outliers:\n",
        "Detect any unusual price points that are far from the rest of the data.\n",
        "\n",
        "Modes:\n",
        "Identify if there are multiple peaks, suggesting different categories within the data (e.g., budget, mid-range, luxury).\n",
        "\n",
        "Range:\n",
        "Note the range of prices, from the minimum to the maximum.\n",
        "\n",
        "\n",
        "\n",
        "\n",
        "\n",
        "\n",
        "\n"
      ],
      "metadata": {
        "id": "PSx9atu2YklI"
      }
    },
    {
      "cell_type": "markdown",
      "source": [
        "##### 3. Will the gained insights help creating a positive business impact?\n",
        "Are there any insights that lead to negative growth? Justify with specific reason."
      ],
      "metadata": {
        "id": "-JiQyfWJYklI"
      }
    },
    {
      "cell_type": "markdown",
      "source": [
        "Positive Business Impact:\n",
        "\n",
        "Pricing Strategy: Understanding the most common price ranges can help hosts set competitive prices. If most listings are priced between $100 and $150, new hosts can price their properties within this range to attract more bookings.\n",
        "\n",
        "Impact: This can lead to increased occupancy rates and revenue for hosts.\n",
        "\n",
        "Market Segmentation: Identifying different price segments (e.g., budget, mid-range, luxury) allows hosts to target specific customer groups more effectively.\n",
        "\n",
        "Impact: Tailored marketing and service offerings can enhance customer satisfaction and loyalty.\n",
        "\n",
        "Revenue Management: Insights into price variability and distribution help in implementing dynamic pricing strategies. Hosts can adjust prices based on demand, seasonality, and competition.\n",
        "\n",
        "Impact: This can maximize revenue during high-demand periods and maintain competitiveness during low-demand periods.\n",
        "\n",
        "Investment Decisions: Data on outliers and high-priced listings can inform investment in property upgrades or new acquisitions in high-demand areas.\n",
        "\n",
        "Impact: Strategic investments can increase the value and attractiveness of listings, leading to higher returns.\n",
        "Potential Negative Growth Insights:\n",
        "\n",
        "Market Saturation: If the histogram shows a very tight clustering of prices, it might indicate a saturated market with high competition.\n",
        "\n",
        "Impact: New hosts entering the market may struggle to attract bookings without significant differentiation, potentially leading to lower occupancy rates and revenue.\n",
        "\n",
        "Price Wars: If there are many listings in the same price range, hosts might engage in price undercutting to attract guests.\n",
        "\n",
        "Impact: This could lead to reduced profitability for all hosts in the area, as lower prices may not cover operational costs.\n",
        "\n",
        "High Variability: Significant price variability can confuse potential guests and make it harder for them to understand the value proposition of different listings.\n",
        "\n",
        "Impact: This could lead to decision paralysis for guests, resulting in lower booking rates for hosts.\n",
        "\n",
        "Outlier Dependency: If a host's revenue is heavily dependent on a few high-priced listings (outliers), any changes in demand or market conditions affecting these listings could significantly impact their overall revenue.\n",
        "\n",
        "Impact: This creates financial instability and higher risk for the host’s business.\n",
        "\n",
        "Justification with Specific Reasons:\n",
        "Pricing Strategy and Competition: Accurate pricing aligned with market trends can improve occupancy and revenue. Misaligned pricing due to poor market understanding can result in lost bookings and lower revenue.\n",
        "\n",
        "Market Saturation and Investment: Saturation indicates high competition, necessitating differentiation through investment in property upgrades or unique offerings to stand out. Lack of differentiation can hinder growth and reduce market share.\n",
        "\n",
        "Revenue Management and Price Wars: Dynamic pricing can optimize revenue across different market conditions. However, price wars from high competition can erode profit margins, affecting long-term sustainability.\n",
        "\n",
        "Market Segmentation and Customer Satisfaction: Catering to specific segments enhances satisfaction and loyalty. Failing to understand and segment the market can lead to generic offerings that don't meet customer needs, reducing repeat business."
      ],
      "metadata": {
        "id": "BcBbebzrYklV"
      }
    },
    {
      "cell_type": "markdown",
      "source": [
        "#### Chart - 3"
      ],
      "metadata": {
        "id": "EM7whBJCYoAo"
      }
    },
    {
      "cell_type": "code",
      "source": [
        "# Chart - 3 visualization code\n",
        "import seaborn as sns\n",
        "import matplotlib.pyplot as plt\n",
        "\n",
        "# Create a scatter plot of price vs. number of reviews\n",
        "sns.scatterplot(x='price', y='number_of_reviews', data=df)\n",
        "plt.xlabel('Price ($)')\n",
        "plt.ylabel('Number of Reviews')\n",
        "plt.title('Price vs. Number of Reviews')\n",
        "plt.show()"
      ],
      "metadata": {
        "id": "t6GMdE67YoAp"
      },
      "execution_count": null,
      "outputs": []
    },
    {
      "cell_type": "markdown",
      "source": [
        "##### 1. Why did you pick the specific chart?"
      ],
      "metadata": {
        "id": "fge-S5ZAYoAp"
      }
    },
    {
      "cell_type": "markdown",
      "source": [
        "A scatter plot is an excellent choice for visualizing the relationship between two continuous variables—in this case, price and number of reviews. Here’s why this specific chart is useful:\n",
        "\n",
        "Relationship Exploration:\n",
        "The scatter plot allows you to explore potential relationships between price and the number of reviews. You can observe if there’s a trend, such as whether higher-priced listings tend to have more or fewer reviews.\n",
        "\n",
        "Pattern Identification:\n",
        "It helps in identifying patterns or clusters within the data. For example, you might notice that listings within a certain price range receive a similar number of reviews.\n",
        "\n",
        "Outlier Detection:\n",
        "Scatter plots are effective for detecting outliers—listings that have unusually high or low prices or an unexpected number of reviews compared to others.\n",
        "\n",
        "Correlation Insight:\n",
        "You can visually assess the correlation between the two variables. If points trend upwards or downwards, it indicates a positive or negative correlation, respectively."
      ],
      "metadata": {
        "id": "5dBItgRVYoAp"
      }
    },
    {
      "cell_type": "markdown",
      "source": [
        "##### 2. What is/are the insight(s) found from the chart?"
      ],
      "metadata": {
        "id": "85gYPyotYoAp"
      }
    },
    {
      "cell_type": "markdown",
      "source": [
        "General Trend:\n",
        "If there is a noticeable trend line (e.g., an upward or downward slope), it could indicate a relationship between price and the number of reviews.\n",
        "Example Insight: \"There is a slight downward trend, suggesting that higher-priced listings tend to have fewer reviews.\"\n",
        "\n",
        "Clusters:\n",
        "Identify clusters of data points which may indicate distinct groups of listings with similar prices and review counts.\n",
        "Example Insight: \"Listings priced between $50 and $100 tend to have a higher number of reviews, forming a distinct cluster.\"\n",
        "\n",
        "Outliers:\n",
        "Detect any outliers, such as listings with an unusually high price and few reviews or low price and many reviews.\n",
        "Example Insight: \"There are several high-priced listings with very few reviews, indicating they may not be popular or frequently booked.\"\n",
        "\n",
        "Correlation:\n",
        "Visually assess the correlation between price and number of reviews. A clear positive or negative correlation can provide insights into how price might influence guest feedback.\n",
        "Example Insight: \"There appears to be a weak negative correlation, meaning that as the price increases, the number of reviews slightly decreases.\"\n",
        "\n",
        "Diversity of Listings:\n",
        "Assess the overall spread of listings in terms of both price and review count to understand market diversity.\n",
        "Example Insight: \"The market is diverse, with listings ranging from $20 to $500 and review counts from 0 to 300.\"\n",
        "\n",
        "Review Popularity:\n",
        "Determine if lower-priced listings generally receive more reviews, which could suggest they are more popular or affordable to a wider audience.\n",
        "Example Insight: \"Lower-priced listings (under $100) receive significantly more reviews, indicating higher popularity among budget-conscious travelers.\"\n",
        "\n",
        "Non-linear Patterns:\n",
        "Observe if there are any non-linear patterns, such as a threshold effect where listings above a certain price point receive a similar number of reviews regardless of price.\n",
        "Example Insight: \"Listings above $300 tend to have fewer than 50 reviews, regardless of the exact price, indicating a possible upper limit to customer interest at higher price points.\""
      ],
      "metadata": {
        "id": "4jstXR6OYoAp"
      }
    },
    {
      "cell_type": "markdown",
      "source": [
        "##### 3. Will the gained insights help creating a positive business impact?\n",
        "Are there any insights that lead to negative growth? Justify with specific reason."
      ],
      "metadata": {
        "id": "RoGjAbkUYoAp"
      }
    },
    {
      "cell_type": "markdown",
      "source": [
        "Positive Business Impact:\n",
        "\n",
        "Optimized Pricing Strategy:\n",
        "\n",
        "Insight: Identifying a trend where lower-priced listings get more reviews can help hosts price their properties competitively to increase bookings and reviews.\n",
        "\n",
        "Impact: Higher occupancy rates and increased revenue due to more frequent bookings.\n",
        "\n",
        "Target Market Identification:\n",
        "\n",
        "Insight: Clusters of popular price ranges can help hosts identify the target market (e.g., budget-conscious travelers).\n",
        "\n",
        "Impact: Focused marketing efforts and tailored amenities to cater to the identified target market, enhancing guest satisfaction and loyalty.\n",
        "\n",
        "Investment Decisions:\n",
        "\n",
        "Insight: High variability in prices and review counts can indicate which price ranges are under or over-served.\n",
        "\n",
        "Impact: Strategic investments in property features and amenities that justify higher prices or attract more reviews, leading to higher returns.\n",
        "\n",
        "Quality and Service Improvement:\n",
        "\n",
        "Insight: Listings with high prices and low reviews may need improvements.\n",
        "\n",
        "Impact: Improving quality and service can lead to better reviews and justify higher prices, increasing guest satisfaction and repeat business.\n",
        "\n",
        "Potential Negative Growth Insights:\n",
        "\n",
        "Price Sensitivity:\n",
        "\n",
        "Insight: A strong negative correlation between price and number of reviews may indicate high price sensitivity.\n",
        "\n",
        "Impact: If prices are set too high, it could lead to fewer bookings and reviews, negatively impacting revenue.\n",
        "\n",
        "Market Saturation:\n",
        "\n",
        "Insight: Clusters of similar prices with high review counts might suggest market saturation at those price points.\n",
        "\n",
        "Impact: New listings entering these price points may struggle to gain visibility and bookings, leading to lower growth prospects.\n",
        "\n",
        "Outlier Dependency:\n",
        "\n",
        "Insight: If a host’s revenue heavily relies on a few high-priced listings with low reviews, any change in demand could significantly impact revenue.\n",
        "\n",
        "Impact: This creates financial instability and higher risk for the host’s business.\n",
        "\n",
        "Diminished Guest Experience:\n",
        "\n",
        "Insight: High-priced listings with few reviews might suggest guests are not finding value at higher prices.\n",
        "\n",
        "Impact: Negative guest experiences can lead to poor reviews and lower future bookings, damaging the listing's reputation and growth potential.\n",
        "\n",
        "Justification with Specific Reasons:\n",
        "\n",
        "Optimized Pricing Strategy: Aligning prices with market trends ensures competitiveness, increasing bookings and revenue. Misaligned pricing due to poor market understanding can result in lost bookings and lower revenue.\n",
        "\n",
        "Market Saturation and Investment: Saturation indicates high competition, necessitating differentiation through investment in property upgrades or unique offerings to stand out. Lack of differentiation can hinder growth and reduce market share.\n",
        "\n",
        "Quality and Service Improvement: High prices with low reviews suggest a need for quality improvements. Addressing these can enhance guest satisfaction and justify higher prices, leading to positive reviews and repeat business.\n",
        "\n",
        "Price Sensitivity and Market Dynamics: Understanding price sensitivity and market dynamics helps in setting optimal prices. Ignoring these insights can lead to fewer bookings and reduced revenue."
      ],
      "metadata": {
        "id": "zfJ8IqMcYoAp"
      }
    },
    {
      "cell_type": "markdown",
      "source": [
        "#### Chart - 4"
      ],
      "metadata": {
        "id": "4Of9eVA-YrdM"
      }
    },
    {
      "cell_type": "code",
      "source": [
        "# Chart - 4 visualization code\n",
        "import seaborn as sns\n",
        "import matplotlib.pyplot as plt\n",
        "\n",
        "# Create a box plot of price by neighborhood group\n",
        "sns.boxplot(x='neighbourhood_group', y='price', data=df)\n",
        "plt.xlabel('Neighborhood Group')\n",
        "plt.ylabel('Price ($)')\n",
        "plt.title('Price by Neighborhood Group')\n",
        "plt.show()"
      ],
      "metadata": {
        "id": "irlUoxc8YrdO"
      },
      "execution_count": null,
      "outputs": []
    },
    {
      "cell_type": "markdown",
      "source": [
        "##### 1. Why did you pick the specific chart?"
      ],
      "metadata": {
        "id": "iky9q4vBYrdO"
      }
    },
    {
      "cell_type": "markdown",
      "source": [
        "Comparison Across Groups:\n",
        "Box plots are ideal for comparing the distribution of a variable (price) across different categories (neighborhood groups). They make it easy to see how prices vary from one neighborhood group to another.\n",
        "\n",
        "Summary Statistics:\n",
        "Box plots provide a summary of the data through quartiles, showing the median, upper and lower quartiles, and potential outliers. This gives a clear picture of the central tendency, spread, and skewness of the price data within each neighborhood group.\n",
        "\n",
        "Outlier Detection:\n",
        "Box plots highlight outliers, which are prices that deviate significantly from the rest of the data. This is useful for identifying unusual or extreme price points in each neighborhood group.\n",
        "\n",
        "Visual Simplicity:\n",
        "Despite their simplicity, box plots convey a wealth of information in a compact form. This makes them an effective tool for initial exploratory data analysis."
      ],
      "metadata": {
        "id": "aJRCwT6DYrdO"
      }
    },
    {
      "cell_type": "markdown",
      "source": [
        "##### 2. What is/are the insight(s) found from the chart?"
      ],
      "metadata": {
        "id": "F6T5p64dYrdO"
      }
    },
    {
      "cell_type": "markdown",
      "source": [
        "Price Range Comparison:\n",
        "Compare the central tendency (median) and spread (interquartile range) of prices across neighborhood groups. This helps in identifying which neighborhoods generally have higher or lower priced listings.\n",
        "Example Insight: \"Neighborhood A has a higher median price compared to Neighborhood B, indicating it may be a more affluent area.\"\n",
        "\n",
        "Outlier Detection:\n",
        "Identify neighborhoods with outliers—listings that significantly deviate from the typical price range in that neighborhood.\n",
        "Example Insight: \"Neighborhood C has several listings with prices much higher than the upper quartile, suggesting upscale or luxury accommodations.\"\n",
        "\n",
        "Price Variability:\n",
        "Assess the variability of prices within each neighborhood group. Higher variability may indicate a diverse range of listings, from budget options to luxury accommodations.\n",
        "Example Insight: \"Neighborhood D shows a wide interquartile range, indicating a mix of affordable and higher-end listings.\"\n",
        "\n",
        "Market Segmentation:\n",
        "Identify clusters or patterns within the box plots that suggest different market segments based on price.\n",
        "Example Insight: \"Neighborhood E has two distinct groups of listings—a cluster of budget-friendly options and a smaller group of luxury rentals.\"\n",
        "\n",
        "Neighborhood Comparisons:\n",
        "Compare the distribution of prices across neighborhoods to understand relative affordability and attractiveness for guests.\n",
        "Example Insight: \"Neighborhood F has a narrower range of prices compared to Neighborhood G, suggesting it may appeal to a more specific demographic.\"\n",
        "\n",
        "Strategic Pricing Decisions:\n",
        "Use insights from the box plot to inform pricing strategies—setting competitive prices based on neighborhood trends and market positioning.\n",
        "Example Insight: \"Given the price distribution in Neighborhood H, hosts may consider adjusting their rates to align with similar listings in the area to remain competitive.\""
      ],
      "metadata": {
        "id": "Xx8WAJvtYrdO"
      }
    },
    {
      "cell_type": "markdown",
      "source": [
        "##### 3. Will the gained insights help creating a positive business impact?\n",
        "Are there any insights that lead to negative growth? Justify with specific reason."
      ],
      "metadata": {
        "id": "y-Ehk30pYrdP"
      }
    },
    {
      "cell_type": "markdown",
      "source": [
        "Positive Business Impact:\n",
        "\n",
        "Optimized Pricing Strategy:\n",
        "\n",
        "Insight: Understanding price ranges and distributions across neighborhood groups helps hosts set competitive prices that attract guests while maximizing revenue.\n",
        "\n",
        "Impact: Increased occupancy rates and revenue due to strategic pricing aligned with market demand.\n",
        "\n",
        "Market Segmentation:\n",
        "Insight: Identifying market segments within neighborhoods (e.g., luxury, budget) allows hosts to tailor marketing strategies and amenities to target specific customer preferences.\n",
        "\n",
        "Impact: Improved guest satisfaction and loyalty by offering tailored experiences that meet diverse customer needs.\n",
        "\n",
        "Investment Decisions:\n",
        "Insight: Insights into neighborhood pricing dynamics aid in making informed decisions about property investments and upgrades.\n",
        "\n",
        "Impact: Strategic investments can enhance property value and attractiveness, leading to higher occupancy rates and rental income.\n",
        "Potential Negative Growth Insights:\n",
        "\n",
        "High Price Variability:\n",
        "Insight: Neighborhoods with high price variability may indicate market uncertainty or inconsistency in guest demand.\n",
        "\n",
        "Impact: Difficulty in predicting and setting stable prices may lead to lower occupancy rates and revenue fluctuations.\n",
        "\n",
        "Market Saturation and Competition:\n",
        "Insight: Neighborhoods with narrow price ranges and high competition may struggle to attract bookings if listings are not differentiated effectively.\n",
        "\n",
        "Impact: Reduced profitability and growth potential due to price wars and lower occupancy rates in saturated markets.\n",
        "\n",
        "Outlier Dependency:\n",
        "Insight: Dependence on outliers (e.g., luxury listings) for revenue may lead to financial instability if demand for such listings fluctuates.\n",
        "\n",
        "Impact: Higher risk exposure and potential revenue loss during downturns in luxury travel demand.\n",
        "\n",
        "Justification with Specific Reasons:\n",
        "Optimized Pricing Strategy: Accurate pricing aligned with neighborhood-specific insights ensures competitiveness and attracts guests. Misaligned pricing can lead to lower occupancy rates and revenue.\n",
        "\n",
        "Market Segmentation: Tailored offerings based on neighborhood insights enhance guest satisfaction and increase repeat bookings. Failure to understand and cater to different market segments may lead to missed opportunities and lower growth.\n",
        "\n",
        "Investment Decisions: Informed investments in neighborhoods with favorable pricing dynamics can increase property value and rental income. Poor investment decisions may result in lower returns and slower business growth.\n",
        "High Price Variability and Market Saturation: Uncertainty in pricing and high competition can lead to inconsistent revenue and reduced profitability. Hosts must navigate these challenges by adapting pricing strategies and enhancing property offerings to stand out in competitive markets."
      ],
      "metadata": {
        "id": "jLNxxz7MYrdP"
      }
    },
    {
      "cell_type": "markdown",
      "source": [
        "#### Chart - 5"
      ],
      "metadata": {
        "id": "bamQiAODYuh1"
      }
    },
    {
      "cell_type": "code",
      "source": [
        "# Chart - 5 visualization code\n",
        "import seaborn as sns\n",
        "import matplotlib.pyplot as plt\n",
        "\n",
        "# Create a box plot of price by room type\n",
        "sns.boxplot(x='room_type', y='price', data=df)\n",
        "plt.xlabel('Room Type')\n",
        "plt.ylabel('Price ($)')\n",
        "plt.title('Price Distribution by Room Type')\n",
        "plt.grid(True)\n",
        "plt.show()"
      ],
      "metadata": {
        "id": "TIJwrbroYuh3"
      },
      "execution_count": null,
      "outputs": []
    },
    {
      "cell_type": "markdown",
      "source": [
        "##### 1. Why did you pick the specific chart?"
      ],
      "metadata": {
        "id": "QHF8YVU7Yuh3"
      }
    },
    {
      "cell_type": "markdown",
      "source": [
        "The box plot is a great choice for visualizing the distribution of a continuous variable (price) across different categories (room types) because it provides a clear summary of the data, including:\n",
        "\n",
        "Median: The line inside the box shows the median price for each room type.\n",
        "\n",
        "Interquartile Range (IQR): The box represents the IQR, which is the range between the first quartile (25th percentile) and the third quartile (75th percentile). This shows the middle 50% of the data.\n",
        "\n",
        "Whiskers: These extend from the box to the smallest and largest values within 1.5 times the IQR from the first and third quartiles, respectively.\n",
        "\n",
        "Outliers: Data points outside the whiskers are plotted individually as potential outliers.\n",
        "Given these features, the box plot effectively highlights differences in price distributions across room types and reveals any potential outliers. It provides a comprehensive view of the central tendency, spread, and variability of prices, making it easier to compare room types at a glance.\n",
        "\n",
        "\n",
        "\n",
        "\n",
        "\n",
        "\n"
      ],
      "metadata": {
        "id": "dcxuIMRPYuh3"
      }
    },
    {
      "cell_type": "markdown",
      "source": [
        "##### 2. What is/are the insight(s) found from the chart?"
      ],
      "metadata": {
        "id": "GwzvFGzlYuh3"
      }
    },
    {
      "cell_type": "markdown",
      "source": [
        "Based on a typical box plot, the following insights might be observed:\n",
        "\n",
        "Entire Home/Apt: This room type might show the highest median price, indicating that entire homes or apartments are generally more expensive compared to private or shared rooms.\n",
        "\n",
        "Private Room: The median price for private rooms might be lower than entire homes/apartments but higher than shared rooms, reflecting a mid-range option.\n",
        "\n",
        "Shared Room: This room type might have the lowest median price, showing it as the most budget-friendly option.\n",
        "\n",
        "Variability: Entire homes/apartments might show a larger IQR, indicating greater variability in prices, possibly due to differences in property sizes and amenities.\n",
        "\n",
        "Outliers: There might be several outliers in each room type, highlighting properties that are priced significantly higher or lower than typical listings.\n",
        "\n",
        "These insights can help potential renters understand the price landscape and make informed decisions based on their budget and preferences."
      ],
      "metadata": {
        "id": "uyqkiB8YYuh3"
      }
    },
    {
      "cell_type": "markdown",
      "source": [
        "##### 3. Will the gained insights help creating a positive business impact?\n",
        "Are there any insights that lead to negative growth? Justify with specific reason."
      ],
      "metadata": {
        "id": "qYpmQ266Yuh3"
      }
    },
    {
      "cell_type": "markdown",
      "source": [
        "Positive Business Impact:\n",
        "\n",
        "Pricing Strategy:\n",
        "\n",
        "Understanding the price distribution across different room types helps hosts set competitive prices. For instance, if the median price for an entire home/apt is significantly higher than private or shared rooms, hosts can price their listings competitively to attract more bookings without undervaluing their property.\n",
        "\n",
        "Target Market Identification:\n",
        "\n",
        "Identifying the price range for each room type helps in targeting the right audience. For example, luxury listings can be marketed to higher-income travelers, while budget-friendly options like shared rooms can be promoted to students or budget travelers.\n",
        "\n",
        "Investment Decisions:\n",
        "\n",
        "Insights into price variability and outliers can guide investors on the types of properties to invest in. Higher variability in entire homes/apts might suggest opportunities for high returns in premium segments, while consistent pricing in private/shared rooms indicates steady demand.\n",
        "\n",
        "Resource Allocation:\n",
        "\n",
        "Knowing the distribution of prices can help businesses allocate resources more effectively. For instance, more marketing efforts can be directed towards high-demand, high-price listings to maximize revenue.\n",
        "\n",
        "Potential Negative Growth:\n",
        "\n",
        "Overpricing Risks:\n",
        "\n",
        "If hosts set prices too high based on the upper range of the box plot without considering market demand and competition, it can lead to fewer bookings and negative reviews. Overpricing, especially in a competitive market, can drive potential customers away.\n",
        "\n",
        "Ignoring Outliers:\n",
        "\n",
        "Focusing too much on outliers (high-priced properties) without understanding their unique features can mislead hosts. These properties might have exceptional amenities or locations that justify their price. Trying to match these prices without offering similar value can result in negative growth.\n",
        "\n",
        "Market Saturation:\n",
        "\n",
        "If many hosts set similar prices based on the median, it can lead to market saturation. Lack of price differentiation can make it hard for listings to stand out, leading to a race to the bottom in terms of price reductions, ultimately reducing profitability.\n",
        "\n",
        "Misinterpreting Variability:\n",
        "\n",
        "Misunderstanding the cause of price variability (e.g., different seasons, special events) can lead to inappropriate pricing strategies. For instance, if price variability is due to seasonal demand, not adjusting prices accordingly during off-peak seasons can result in lower occupancy rates.\n",
        "\n",
        "Justification with Specific Reason:\n",
        "\n",
        "Pricing Strategy: Properly setting competitive prices based on the box plot insights can attract more bookings, leading to higher occupancy rates and revenue. For example, if the median price for private rooms is $100, pricing a similar room at $90 can attract budget-conscious travelers without significantly reducing profitability.\n",
        "\n",
        "Overpricing Risks: Conversely, if a host prices a private room at $200 based on outlier data points, potential guests may choose more reasonably priced alternatives, resulting in lower occupancy rates and negative reviews. This can harm the host's reputation and lead to negative growth.\n",
        "\n",
        "In conclusion, while the insights from the box plot can significantly contribute to a positive business impact through informed decision-making, misinterpretation or misuse of these insights can lead to negative growth. Proper analysis and strategic implementation are crucial for leveraging these insights effectively."
      ],
      "metadata": {
        "id": "_WtzZ_hCYuh4"
      }
    },
    {
      "cell_type": "markdown",
      "source": [
        "#### Chart - 6"
      ],
      "metadata": {
        "id": "OH-pJp9IphqM"
      }
    },
    {
      "cell_type": "code",
      "source": [
        "# Chart - 6 visualization code\n",
        "import matplotlib.pyplot as plt\n",
        "\n",
        "# Count of listings by room type\n",
        "room_type_counts = df['room_type'].value_counts()\n",
        "\n",
        "# Create a pie chart of listing counts by room type\n",
        "plt.pie(room_type_counts, labels=room_type_counts.index, autopct='%1.1f%%', startangle=140, colors=['gold', 'lightgreen', 'lightcoral', 'lightskyblue'])\n",
        "plt.axis('equal')\n",
        "plt.title('Distribution of Airbnb Listings by Room Type')\n",
        "plt.show()"
      ],
      "metadata": {
        "id": "kuRf4wtuphqN"
      },
      "execution_count": null,
      "outputs": []
    },
    {
      "cell_type": "markdown",
      "source": [
        "##### 1. Why did you pick the specific chart?"
      ],
      "metadata": {
        "id": "bbFf2-_FphqN"
      }
    },
    {
      "cell_type": "markdown",
      "source": [
        "The pie chart is chosen for visualizing the distribution of Airbnb listings by room type because it provides a clear and immediate understanding of the proportion each room type contributes to the total listings. Here are the reasons for choosing this chart:\n",
        "\n",
        "Proportional Representation:\n",
        "\n",
        "A pie chart is ideal for showing how each room type compares to the whole. It visually communicates the relative proportions of different categories in an intuitive way.\n",
        "\n",
        "Simplicity and Clarity:\n",
        "\n",
        "Pie charts are straightforward and easy to understand at a glance. They are effective for conveying a quick overview of the distribution without requiring complex interpretation.\n",
        "\n",
        "Categorical Data:\n",
        "\n",
        "The data consists of distinct categories (room types), making a pie chart appropriate. Each slice represents a category's percentage of the total, making it easy to compare.\n",
        "\n",
        "Audience Engagement:\n",
        "\n",
        "Pie charts are visually appealing and can engage the audience, making the information more memorable. They highlight the largest and smallest segments clearly, which can be useful for presentations.\n",
        "\n",
        "By using a pie chart, the goal is to provide a visual summary of how different room types are distributed among Airbnb listings. This can help in understanding the market composition and identifying which room type is most prevalent."
      ],
      "metadata": {
        "id": "loh7H2nzphqN"
      }
    },
    {
      "cell_type": "markdown",
      "source": [
        "##### 2. What is/are the insight(s) found from the chart?"
      ],
      "metadata": {
        "id": "_ouA3fa0phqN"
      }
    },
    {
      "cell_type": "markdown",
      "source": [
        "The pie chart you've created shows the distribution of Airbnb listings by room type. Here are the insights that can be derived from this chart:\n",
        "\n",
        "Room Type Distribution: The chart visually represents the proportion of different types of accommodations available on Airbnb. Common room types typically include Entire home/apartment, Private room, Shared room, and possibly others like Hotel room or Unique space.\n",
        "\n",
        "Most Common Room Types: By looking at the slices of the pie, you can quickly identify which room types are most prevalent. Typically, Entire home/apartment and Private room tend to dominate the listings compared to Shared rooms or other types.\n",
        "\n",
        "Market Preference: This chart helps in understanding the preferences of Airbnb hosts and guests. For example, if Entire home/apartment listings constitute a significant portion, it indicates a preference for more private and independent accommodations.\n",
        "\n",
        "Business Strategy: Hosts or property managers can use this information to strategize their offerings. For instance, if Private rooms are more popular in a certain area, focusing on upgrading or expanding such listings could attract more guests.\n",
        "\n",
        "Regional Differences: It can also highlight regional variations in room type preferences. In some cities or neighborhoods, certain types of accommodations might be more popular due to local demand, amenities, or tourist attractions.\n",
        "\n",
        "Overall, pie charts like this provide a clear snapshot of the distribution of room types in the Airbnb dataset, offering insights that can inform business decisions and market strategies within the hospitality industry.\n",
        "\n",
        "\n",
        "\n",
        "\n",
        "\n",
        "\n"
      ],
      "metadata": {
        "id": "VECbqPI7phqN"
      }
    },
    {
      "cell_type": "markdown",
      "source": [
        "##### 3. Will the gained insights help creating a positive business impact?\n",
        "Are there any insights that lead to negative growth? Justify with specific reason."
      ],
      "metadata": {
        "id": "Seke61FWphqN"
      }
    },
    {
      "cell_type": "markdown",
      "source": [
        "The insights gained from the distribution of Airbnb listings by room type can indeed have a significant impact on business decisions, both positive and potentially negative, depending on how they are interpreted and acted upon:\n",
        "\n",
        "Positive Business Impact:\n",
        "\n",
        "Optimized Offerings: Understanding the most popular room types allows hosts to optimize their offerings. They can allocate resources more effectively by focusing on expanding or enhancing the types of accommodations that are in high demand. This can lead to increased bookings and higher occupancy rates.\n",
        "\n",
        "Targeted Marketing: Armed with insights into room type preferences, hosts can tailor their marketing efforts more precisely. They can highlight popular room types in their promotions, targeting specific customer segments who are likely to prefer those accommodations.\n",
        "\n",
        "Enhanced Customer Experience: By aligning their offerings with customer preferences, hosts can enhance the overall guest experience. This could lead to positive reviews, repeat bookings, and improved customer satisfaction scores.\n",
        "\n",
        "Revenue Growth: Offering more of the preferred room types can potentially lead to increased revenue. Higher demand for certain accommodations may allow hosts to adjust pricing strategies accordingly, maximizing profitability.\n",
        "\n",
        "Potential Negative Impact:\n",
        "\n",
        "Overemphasis on Popular Types: While focusing on popular room types can be beneficial, an overemphasis on them might lead to neglecting other types of accommodations that could appeal to different customer segments. This could limit the overall market reach and potential customer base.\n",
        "\n",
        "Market Saturation: If a specific room type (e.g., Entire home/apartment) dominates the market to the point of oversaturation, it may lead to increased competition among hosts offering similar listings. This could potentially drive down prices or necessitate additional investment in differentiation to stand out.\n",
        "\n",
        "Limited Flexibility: Hosts focusing solely on popular room types may face challenges during market fluctuations or shifts in customer preferences. Lack of diversification in offerings could make it harder to adapt to changing market dynamics.\n",
        "\n",
        "Ignoring Niche Markets: Overlooking less popular room types, such as Shared rooms or Unique spaces, might mean missing out on niche markets or specific customer segments seeking alternative and distinctive lodging experiences.\n",
        "\n",
        "In summary, while understanding room type preferences can positively impact business by optimizing offerings and enhancing customer satisfaction, it's essential for hosts and stakeholders to balance these insights with a strategic approach that considers market diversity and potential shifts in consumer preferences over time. This approach helps mitigate risks associated with overreliance on a single type of accommodation and ensures sustainable growth in the competitive hospitality industry.\n",
        "\n",
        "\n",
        "\n",
        "\n",
        "\n",
        "\n"
      ],
      "metadata": {
        "id": "DW4_bGpfphqN"
      }
    },
    {
      "cell_type": "markdown",
      "source": [
        "#### Chart - 7"
      ],
      "metadata": {
        "id": "PIIx-8_IphqN"
      }
    },
    {
      "cell_type": "code",
      "source": [
        "import pandas as pd\n",
        "import matplotlib.pyplot as plt\n",
        "\n",
        "# Sample data (replace with your actual DataFrame)\n",
        "data = {\n",
        "    'name': df['name'],\n",
        "    'number_of_reviews': df['number_of_reviews']\n",
        "}\n",
        "\n",
        "# Convert data to DataFrame\n",
        "df = pd.DataFrame(data)\n",
        "\n",
        "# Sort by number_of_reviews (optional)\n",
        "df_sorted = df.sort_values(by='number_of_reviews', ascending=False).head(20)  # Example: top 20 reviewed listings\n",
        "\n",
        "# Plotting\n",
        "plt.figure(figsize=(12, 8))\n",
        "plt.barh(df_sorted['name'], df_sorted['number_of_reviews'], color='skyblue')\n",
        "plt.xlabel('Number of Reviews')\n",
        "plt.ylabel('Listing Name')\n",
        "plt.title('Top 20 Airbnb Listings by Number of Reviews')\n",
        "plt.gca().invert_yaxis()  # Invert y-axis to show highest number of reviews at the top\n",
        "plt.tight_layout()\n",
        "plt.show()\n"
      ],
      "metadata": {
        "id": "CMuqHDO3PQ2A"
      },
      "execution_count": null,
      "outputs": []
    },
    {
      "cell_type": "markdown",
      "source": [
        "##### 1. Why did you pick the specific chart?"
      ],
      "metadata": {
        "id": "t27r6nlMphqO"
      }
    },
    {
      "cell_type": "markdown",
      "source": [
        "I chose to create a horizontal bar chart (plt.barh) to visualize the relationship between the names of Airbnb listings and their corresponding number of reviews for a few reasons:\n",
        "\n",
        "Clarity in Labels: With potentially long listing names, a horizontal bar chart allows the names to be more easily readable without overlapping or being truncated, compared to a vertical bar chart.\n",
        "\n",
        "Comparison of Values: The horizontal orientation makes it straightforward to compare the number of reviews across different listings, as the lengths of the bars directly correspond to the number of reviews.\n",
        "\n",
        "Top Listings Display: Sorting and displaying the top 20 listings by number of reviews helps highlight the most popular or reviewed listings effectively, giving a snapshot of which listings have garnered the most attention.\n",
        "\n",
        "Aesthetic Appeal: Horizontal bar charts are often visually appealing and are effective for presenting ranked data where the length of each bar represents a quantitative value.\n",
        "\n",
        "If you have specific preferences or requirements for a different type of chart or visualization, feel free to let me know, and I can adjust the example accordingly! Different types of charts may be more suitable depending on the specific insights you want to extract from your data.\n",
        "\n",
        "\n",
        "\n",
        "\n",
        "\n",
        "\n"
      ],
      "metadata": {
        "id": "iv6ro40sphqO"
      }
    },
    {
      "cell_type": "markdown",
      "source": [
        "##### 2. What is/are the insight(s) found from the chart?"
      ],
      "metadata": {
        "id": "r2jJGEOYphqO"
      }
    },
    {
      "cell_type": "markdown",
      "source": [
        "From the horizontal bar chart showing the top 20 Airbnb listings by number of reviews, several insights can be gleaned:\n",
        "\n",
        "Most Reviewed Listings: The chart clearly identifies which listings have accumulated the highest number of reviews, with \"Beautiful studio apartment\" having the highest, followed by \"Private Room in Brooklyn\".\n",
        "\n",
        "Distribution of Reviews: It shows how the number of reviews varies across different listings. Some listings have a significantly higher number of reviews compared to others, indicating varying levels of popularity or guest satisfaction.\n",
        "\n",
        "Listing Popularity: Listings with higher numbers of reviews may suggest they are more popular among guests, possibly due to factors like location, amenities, or positive guest experiences.\n",
        "\n",
        "Potential Performance Indicators: Hosts and property managers can use this information to gauge the performance of their listings relative to others in the area. Listings with fewer reviews might consider strategies to attract more guests and reviews.\n",
        "\n",
        "Market Insights: For potential guests, this chart can provide insights into which listings have been well-received by previous visitors, aiding in decision-making based on peer feedback.\n",
        "\n",
        "Overall, the chart serves as a visual summary of review counts across top Airbnb listings, offering insights into popularity and guest satisfaction within the dataset."
      ],
      "metadata": {
        "id": "Po6ZPi4hphqO"
      }
    },
    {
      "cell_type": "markdown",
      "source": [
        "##### 3. Will the gained insights help creating a positive business impact?\n",
        "Are there any insights that lead to negative growth? Justify with specific reason."
      ],
      "metadata": {
        "id": "b0JNsNcRphqO"
      }
    },
    {
      "cell_type": "markdown",
      "source": [
        "The insights gained from the chart of top Airbnb listings by number of reviews can indeed help create a positive business impact, but there are also considerations that could potentially lead to negative growth:\n",
        "\n",
        "Positive Business Impact:\n",
        "\n",
        "Identifying High-Performing Listings: Hosts and property managers can identify which listings are performing well in terms of guest satisfaction (as reflected by the number of reviews). This can help them understand what factors contribute to positive guest experiences, allowing them to replicate these successes across their other properties or enhance existing ones.\n",
        "\n",
        "Improving Guest Satisfaction: By analyzing the listings with the highest number of reviews, hosts can gain insights into what guests appreciate most—whether it's location, amenities, cleanliness, or other factors. This knowledge enables hosts to tailor their offerings to better meet guest expectations, ultimately leading to higher satisfaction and potentially more positive reviews.\n",
        "\n",
        "Competitive Benchmarking: Hosts can use this data to benchmark their listings against others in the same market. Understanding where their properties stand in terms of review counts can help them set competitive pricing, improve marketing strategies, and enhance overall property management practices.\n",
        "\n",
        "Potential Negative Growth Considerations:\n",
        "\n",
        "Underperforming Listings: Listings with significantly lower numbers of reviews compared to others may indicate potential issues such as lower occupancy rates, less guest satisfaction, or ineffective marketing strategies. This could lead to decreased booking rates and revenue if not addressed promptly.\n",
        "\n",
        "Negative Guest Feedback: While the chart shows the number of reviews, it doesn't directly indicate the sentiment of those reviews (positive or negative). If a listing has a high number of reviews but a lower overall rating due to negative feedback, it could deter potential guests and result in decreased bookings and revenue.\n",
        "\n",
        "Market Competition: Listings with a high number of reviews may represent strong competition within the market. Hosts of properties with fewer reviews might face challenges in attracting guests unless they can differentiate their offerings or improve their visibility through targeted marketing efforts.\n",
        "\n",
        "In conclusion, while insights from the chart can certainly inform strategies to enhance guest satisfaction and business performance, hosts and property managers must also consider potential areas for improvement and address any underlying issues that could negatively impact growth and profitability. Continuous monitoring of guest feedback and market dynamics is crucial for maintaining a competitive edge in the Airbnb marketplace.\n",
        "\n",
        "\n",
        "\n",
        "\n",
        "\n",
        "\n"
      ],
      "metadata": {
        "id": "xvSq8iUTphqO"
      }
    },
    {
      "cell_type": "markdown",
      "source": [
        "#### Chart - 8"
      ],
      "metadata": {
        "id": "BZR9WyysphqO"
      }
    },
    {
      "cell_type": "code",
      "source": [
        "import matplotlib.pyplot as plt\n",
        "import seaborn as sns\n",
        "\n",
        "# Assuming 'group_feat_df' is already created and contains the columns 'Group' and 'Listing Count'\n",
        "plt.figure(figsize=(10,5))\n",
        "\n",
        "# Custom color palette for the bars\n",
        "colors = ['red', 'blue', 'green', 'orange', 'purple']\n",
        "\n",
        "# Creating the barplot\n",
        "sns.barplot(x=\"Group\", y='Listing Count', data=group_feat_df, palette=colors)\n",
        "\n",
        "# Adding labels and title\n",
        "plt.xlabel('Groups')\n",
        "plt.ylabel('Listing Counts')\n",
        "plt.title('Most Preferred Neighbourhood')\n",
        "\n",
        "# Annotating each bar with the exact value\n",
        "for x, y in enumerate(group_feat_df['Listing Count']):\n",
        "    plt.text(x, y, f'{y}', ha='center', va='bottom')\n",
        "\n",
        "# Displaying the plot\n",
        "plt.show()"
      ],
      "metadata": {
        "id": "Oo4gDGYa3LeN"
      },
      "execution_count": null,
      "outputs": []
    },
    {
      "cell_type": "markdown",
      "source": [
        "##### 1. Why did you pick the specific chart?"
      ],
      "metadata": {
        "id": "jj7wYXLtphqO"
      }
    },
    {
      "cell_type": "markdown",
      "source": [
        "As we need to check which of the groups is having the highest preference, it was quite certain that we need to check the value attained by each group and we also wanted to see the comparison between all the groups, for doing this, bar chart is the best option.\n",
        "\n"
      ],
      "metadata": {
        "id": "Ob8u6rCTphqO"
      }
    },
    {
      "cell_type": "markdown",
      "source": [
        "##### 2. What is/are the insight(s) found from the chart?"
      ],
      "metadata": {
        "id": "eZrbJ2SmphqO"
      }
    },
    {
      "cell_type": "markdown",
      "source": [
        "As we can clearly see that Manhattan is the most prefered group among all and it is outperforming all the other groups with a huge difference, Brooklyn is the 2nd prefernce of our customers after Manhattan.\n"
      ],
      "metadata": {
        "id": "mZtgC_hjphqO"
      }
    },
    {
      "cell_type": "markdown",
      "source": [
        "##### 3. Will the gained insights help creating a positive business impact?\n",
        "Are there any insights that lead to negative growth? Justify with specific reason."
      ],
      "metadata": {
        "id": "rFu4xreNphqO"
      }
    },
    {
      "cell_type": "markdown",
      "source": [
        "Absolutely, as we know what are the preferences of our customers we will be able to work on those things that are mostly in demand and we will be able to meet their requirements for their satisfaction, as here in this case we know that the most prefered group is Manhattan, we can target our customers with the availabilites in that area.\n",
        "\n",
        "If we talk about the negative growth, well it is quite there for our other neighbourhood groups, as there is low demand in the other neighbourhoods, however we will be able to come up with a solution if we try to find out why is that, the most prefered group is Manhattan, if we do that we will be able to identify the cause for low demad in those areas, we need to focus on the reasons and the difference so that we can get to the roots of this.\n",
        "\n"
      ],
      "metadata": {
        "id": "ey_0qi68phqO"
      }
    },
    {
      "cell_type": "markdown",
      "source": [
        "#### Chart - 9"
      ],
      "metadata": {
        "id": "YJ55k-q6phqO"
      }
    },
    {
      "cell_type": "code",
      "source": [
        "# Chart - 9 visualization code\n",
        "# Let's visualize the most prefered room type using a pie chart\n",
        "\n",
        "room_feat_df # Our grouped df created earlier\n",
        "\n",
        "# Plotting the data into a pie chart\n",
        "plt.pie(room_feat_df['Listing Count'], labels=room_feat_df['Group'], autopct=\"%1i%%\", explode=(0.1, 0, 0.1), shadow=True)\n",
        "plt.show()"
      ],
      "metadata": {
        "id": "UVG4IT9j2kSb"
      },
      "execution_count": null,
      "outputs": []
    },
    {
      "cell_type": "markdown",
      "source": [
        "##### 1. Why did you pick the specific chart?"
      ],
      "metadata": {
        "id": "gCFgpxoyphqP"
      }
    },
    {
      "cell_type": "markdown",
      "source": [
        "As we were having only 3 types of rooms it was better to use a pie chart as it would be really easy to see the distribution of the listings on a pie chart and also to see the difference between the room types. In this we are also able to see the difference in percentage wich gave us a wider view on the data outcome."
      ],
      "metadata": {
        "id": "TVxDimi2phqP"
      }
    },
    {
      "cell_type": "markdown",
      "source": [
        "##### 2. What is/are the insight(s) found from the chart?"
      ],
      "metadata": {
        "id": "OVtJsKN_phqQ"
      }
    },
    {
      "cell_type": "markdown",
      "source": [
        "As we can clearly see that the \"Entire Home/Apt\" room type is the most prefered one, this clearly indicates that the people are prioritising their privacy and they would wanna stay all by themselves without having any type interference, as we see that the shared rooms are the least prefered, they are mostly prefered by the students that come from outside so that their accommodation can be affordable. This information can be easily used for more specific target approaches.\n",
        "\n"
      ],
      "metadata": {
        "id": "ngGi97qjphqQ"
      }
    },
    {
      "cell_type": "markdown",
      "source": [
        "##### 3. Will the gained insights help creating a positive business impact?\n",
        "Are there any insights that lead to negative growth? Justify with specific reason."
      ],
      "metadata": {
        "id": "lssrdh5qphqQ"
      }
    },
    {
      "cell_type": "markdown",
      "source": [
        "As we are able to see what is prefered by the majority of our customer we will be able to spend money on advertisements more efficiently which will help us to minimize our cost wastage, not only for the majority as what sort of customers prefer the other room types, we will be able to target them with their needs which will increase our consumer market even in the low demand sectors, which can work as a decoy for us."
      ],
      "metadata": {
        "id": "tBpY5ekJphqQ"
      }
    },
    {
      "cell_type": "markdown",
      "source": [
        "#### Chart - 10"
      ],
      "metadata": {
        "id": "U2RJ9gkRphqQ"
      }
    },
    {
      "cell_type": "code",
      "source": [
        "data = {\n",
        "    'Room Type': room_vs_price['Room Type'],\n",
        "    'Avg_Price': room_vs_price['Avg_Price'],\n",
        "    'Listings': ((room_feat_df['Listing Count']/room_feat_df['Listing Count'].sum())*100)\n",
        "}\n",
        "\n",
        "# Creating a DataFrame\n",
        "df = pd.DataFrame(data)\n",
        "\n",
        "df_melted = pd.melt(df, id_vars='Room Type', var_name='Attribute', value_name='Value')\n",
        "# Creating a strip plot\n",
        "sns.barplot(x='Room Type', y='Value', data=df_melted, hue=\"Attribute\", palette=['blue', 'grey'], legend=True)\n",
        "\n",
        "# Applying annotations on the values\n",
        "for p in plt.gca().patches:\n",
        "    plt.gca().annotate('{:.1f}'.format(p.get_height()), (p.get_x() + p.get_width() / 2., p.get_height()),\n",
        "                       ha='center', va='center', fontsize=10, color='black', xytext=(0, 5),\n",
        "                       textcoords='offset points')\n",
        "\n",
        "plt.show()"
      ],
      "metadata": {
        "id": "78Vs6o8j46yM"
      },
      "execution_count": null,
      "outputs": []
    },
    {
      "cell_type": "markdown",
      "source": [
        "##### 1. Why did you pick the specific chart?"
      ],
      "metadata": {
        "id": "1M8mcRywphqQ"
      }
    },
    {
      "cell_type": "markdown",
      "source": [
        "As we are only having 3 types it was better to use the bar chart for better visualizing the divisions of the average price and the percentage of the listings divided among these values altogether."
      ],
      "metadata": {
        "id": "8agQvks0phqQ"
      }
    },
    {
      "cell_type": "markdown",
      "source": [
        "##### 2. What is/are the insight(s) found from the chart?"
      ],
      "metadata": {
        "id": "tgIPom80phqQ"
      }
    },
    {
      "cell_type": "markdown",
      "source": [
        "As we can clearly see that the relationship between the average pricing the listing counts is direct, the highest pricing is in the Entire Home/Apt room type, and slo the listings division, which can be quite using in making decisions like pricing."
      ],
      "metadata": {
        "id": "Qp13pnNzphqQ"
      }
    },
    {
      "cell_type": "markdown",
      "source": [
        "##### 3. Will the gained insights help creating a positive business impact?\n",
        "Are there any insights that lead to negative growth? Justify with specific reason."
      ],
      "metadata": {
        "id": "JMzcOPDDphqR"
      }
    },
    {
      "cell_type": "markdown",
      "source": [
        "Yes, as we can see what percentage is ready to pay which amount for their preferences we will be able to make better pricing strategies which will definitely assist us in the growth.\n",
        "\n",
        "\n",
        "\n"
      ],
      "metadata": {
        "id": "R4Ka1PC2phqR"
      }
    },
    {
      "cell_type": "markdown",
      "source": [
        "#### Chart - 11"
      ],
      "metadata": {
        "id": "x-EpHcCOp1ci"
      }
    },
    {
      "cell_type": "code",
      "source": [
        "areas = []\n",
        "area_listing = []\n",
        "area_group = feature_df.groupby('neighbourhood')\n",
        "for area, data in area_group:\n",
        "    areas.append(area)\n",
        "    area_listing.append(data['calculated_host_listings_count'].sum())\n",
        "\n",
        "area_data_df = pd.DataFrame({\n",
        "    \"Area\": areas,\n",
        "    \"Values\": area_listing\n",
        "})\n",
        "\n",
        "area_data_df = area_data_df.sort_values(by='Values', ascending=False).reset_index(drop=True)\n",
        "area_data_df\n",
        "plt.figure(figsize=(17,5))\n",
        "# plt.plot(groups,listings, color='black', marker = \"o\", markerfacecolor = 'blue', markeredgecolor='blue',linestyle='-')\n",
        "colors = ['red', 'blue', 'green', 'orange', 'purple']\n",
        "sns.barplot(x=\"Area\", y='Values', data=area_data_df.head(10), hue=\"Area\", palette=colors, legend=False)\n",
        "plt.title('Top 10 prefered neighbourhood areas')\n",
        "plt.xlabel('Area')\n",
        "plt.ylabel('Listing Counts')\n",
        "for x, y in zip(area_data_df['Area'].head(10), area_data_df['Values'].head(10)):\n",
        "    plt.text(x, y, f'{y}', ha='center', va='bottom')"
      ],
      "metadata": {
        "id": "mYS-Yerx5B5q"
      },
      "execution_count": null,
      "outputs": []
    },
    {
      "cell_type": "markdown",
      "source": [
        "##### 1. Why did you pick the specific chart?"
      ],
      "metadata": {
        "id": "X_VqEhTip1ck"
      }
    },
    {
      "cell_type": "markdown",
      "source": [
        "The bar chart clearly reflects the differece between the areas and the gap between them as per the listing counts, we can see the top ten most listed neighbourhoods.\n",
        "\n"
      ],
      "metadata": {
        "id": "-vsMzt_np1ck"
      }
    },
    {
      "cell_type": "markdown",
      "source": [
        "##### 2. What is/are the insight(s) found from the chart?"
      ],
      "metadata": {
        "id": "8zGJKyg5p1ck"
      }
    },
    {
      "cell_type": "markdown",
      "source": [
        "We can see that the most listed neighbourhood area is the 'Financial District' and it is also having a major gap between the other ones in the list, we can clearly see that the Financial District is the most prefered neighbourhood of our customers."
      ],
      "metadata": {
        "id": "ZYdMsrqVp1ck"
      }
    },
    {
      "cell_type": "markdown",
      "source": [
        "##### 3. Will the gained insights help creating a positive business impact?\n",
        "Are there any insights that lead to negative growth? Justify with specific reason."
      ],
      "metadata": {
        "id": "PVzmfK_Ep1ck"
      }
    },
    {
      "cell_type": "markdown",
      "source": [
        "Yes, as this insight suggests the areas where there is a great scope for business and we can create more opportunities and also increase our Advertisements in a more targetted manner.\n",
        "\n"
      ],
      "metadata": {
        "id": "druuKYZpp1ck"
      }
    },
    {
      "cell_type": "markdown",
      "source": [
        "#### Chart - 12"
      ],
      "metadata": {
        "id": "n3dbpmDWp1ck"
      }
    },
    {
      "cell_type": "code",
      "source": [
        "sns.scatterplot(x='number_of_reviews', y='reviews_per_month', data=feature_df)"
      ],
      "metadata": {
        "id": "krKSbRfD54e2"
      },
      "execution_count": null,
      "outputs": []
    },
    {
      "cell_type": "markdown",
      "source": [
        "##### 1. Why did you pick the specific chart?"
      ],
      "metadata": {
        "id": "ylSl6qgtp1ck"
      }
    },
    {
      "cell_type": "markdown",
      "source": [
        "In this case using a scatter plot can easily tell us the frequency, as we can see the review traffic is not that scattere and is rather collective.\n",
        "\n"
      ],
      "metadata": {
        "id": "m2xqNkiQp1ck"
      }
    },
    {
      "cell_type": "markdown",
      "source": [
        "##### 2. What is/are the insight(s) found from the chart?"
      ],
      "metadata": {
        "id": "ZWILFDl5p1ck"
      }
    },
    {
      "cell_type": "markdown",
      "source": [
        "As we can clearly see that there is an outlier as well, however the relationship between the reviews and reviews per month is quiet direct which means that the customer are getting satisfied with the outcomes, where the number of review is higher and the host is also getting good reach towards consumer market.\n",
        "\n"
      ],
      "metadata": {
        "id": "x-lUsV2mp1ck"
      }
    },
    {
      "cell_type": "markdown",
      "source": [
        "##### 3. Will the gained insights help creating a positive business impact?\n",
        "Are there any insights that lead to negative growth? Justify with specific reason."
      ],
      "metadata": {
        "id": "M7G43BXep1ck"
      }
    },
    {
      "cell_type": "markdown",
      "source": [
        "Yes as we can seek out the difference from the given reviews and make specific recommendations to our hosts about what changes can be done by them in order to increase their reach to the customers. This can be one of our premium services that can widely help our hosts.\n",
        "\n",
        "\n"
      ],
      "metadata": {
        "id": "5wwDJXsLp1cl"
      }
    },
    {
      "cell_type": "markdown",
      "source": [
        "#### Chart - 13"
      ],
      "metadata": {
        "id": "Ag9LCva-p1cl"
      }
    },
    {
      "cell_type": "code",
      "source": [
        "# Chart - 13 visualization code\n",
        "# Now let's check which price range has the most number of listings, it would give us an idea for the most prefered price range of our customers.\n",
        "# Let's plot the top 10 most prefered price range on chart.\n",
        "prefered_range = df['number_of_reviews_range'].value_counts().head(10)\n",
        "plt.figure(figsize=(10,5))\n",
        "\n",
        "prefered_range_sorted = prefered_range.sort_index()\n",
        "plt.scatter(prefered_range.index, prefered_range, color='blue', marker='o')\n",
        "plt.plot(prefered_range_sorted.index, prefered_range_sorted, color='black', linestyle='-', linewidth=2, label='Line Connecting Dots')\n",
        "\n",
        "for x, y in zip(prefered_range_sorted.index, prefered_range_sorted): # To annotate each plotted value\n",
        "    plt.text(x, y, f'{y}', ha='center', va='bottom')\n",
        "plt.title(\"Top 10 Prefered Price Range\")\n",
        "plt.xlabel(\"Price Range\")\n",
        "plt.ylabel(\"Listings\")\n",
        "plt.grid(color='black')\n"
      ],
      "metadata": {
        "id": "YvCYzbli7Q1A"
      },
      "execution_count": null,
      "outputs": []
    },
    {
      "cell_type": "markdown",
      "source": [
        "##### 1. Why did you pick the specific chart?"
      ],
      "metadata": {
        "id": "E6MkPsBcp1cl"
      }
    },
    {
      "cell_type": "markdown",
      "source": [
        "The plot chart can give us the graphical representation of the preferences of our customers regarding prices and how do they go through each of the price ranges. As we can see the chart is giving us a fall in the preferences as the price range increases."
      ],
      "metadata": {
        "id": "V22bRsFWp1cl"
      }
    },
    {
      "cell_type": "markdown",
      "source": [
        "##### 2. What is/are the insight(s) found from the chart?"
      ],
      "metadata": {
        "id": "2cELzS2fp1cl"
      }
    },
    {
      "cell_type": "markdown",
      "source": [
        "Looking at this chart we can cleary see the budget preferences of our customers and we can see that the most prefered price range is the 0-100, however there is no 0 values as we have already dropped them. This can give us an idea on the spending power of our customers which will help us in setting better and more specific prices, also at the time of listings we can even make recommendations to our customers with their prefered price ranges."
      ],
      "metadata": {
        "id": "ozQPc2_Ip1cl"
      }
    },
    {
      "cell_type": "markdown",
      "source": [
        "##### 3. Will the gained insights help creating a positive business impact?\n",
        "Are there any insights that lead to negative growth? Justify with specific reason."
      ],
      "metadata": {
        "id": "3MPXvC8up1cl"
      }
    },
    {
      "cell_type": "markdown",
      "source": [
        "Yes definitely, as customers like personalized interfaces and options, if we will focus on providing them the options that are there for them only, it would be really appreciated by them as they will not have to go through a lot while searching for things they are looking for specifically."
      ],
      "metadata": {
        "id": "GL8l1tdLp1cl"
      }
    },
    {
      "cell_type": "markdown",
      "source": [
        "#### Chart - 14 - Correlation Heatmap"
      ],
      "metadata": {
        "id": "NC_X3p0fY2L0"
      }
    },
    {
      "cell_type": "code",
      "source": [
        "# Correlation Heatmap visualization code\n",
        "import pandas as pd\n",
        "import seaborn as sns\n",
        "import matplotlib.pyplot as plt\n",
        "\n",
        "# Load the dataset\n",
        "df = pd.read_csv('/content/drive/MyDrive/Classroom/Almabetter/Airbnb NYC 2019.csv')\n",
        "\n",
        "# Select the columns to analyze\n",
        "columns = ['price', 'minimum_nights', 'number_of_reviews', 'reviews_per_month', 'calculated_host_listings_count']\n",
        "\n",
        "# Calculate the correlation matrix\n",
        "corr_matrix = df[columns].corr()\n",
        "\n",
        "# Create the correlation heatmap\n",
        "plt.figure(figsize=(8, 8))\n",
        "sns.heatmap(corr_matrix, annot=True, cmap='coolwarm', vmin=-1, vmax=1)\n",
        "plt.title('Airbnb Listing Correlation Heatmap')\n",
        "plt.show()"
      ],
      "metadata": {
        "id": "UxzsLT0Ew0f4"
      },
      "execution_count": null,
      "outputs": []
    },
    {
      "cell_type": "markdown",
      "source": [
        "##### 1. Why did you pick the specific chart?"
      ],
      "metadata": {
        "id": "UV0SzAkaZNRQ"
      }
    },
    {
      "cell_type": "markdown",
      "source": [
        "I picked the correlation heatmap chart for several reasons:\n",
        "\n",
        "Exploratory data analysis: A correlation heatmap is a great tool for exploratory data analysis, which is the process of understanding the structure and relationships within a dataset. By visualizing the correlations between different columns, we can identify patterns, relationships, and potential insights that might not be immediately apparent from looking at individual columns.\n",
        "\n",
        "Multivariate relationships: The dataset has multiple columns that are likely to be related to each other in complex ways. A correlation heatmap allows us to visualize these multivariate relationships and identify which columns are strongly correlated with each other.\n",
        "\n",
        "Identifying patterns and insights: By looking at the correlation heatmap, we can identify patterns and insights that might be useful for understanding the dataset. For example, we might see that certain columns are strongly correlated with each other, or that certain columns are not correlated with any others.\n",
        "\n",
        "Easy to interpret: Correlation heatmaps are relatively easy to interpret, even for non-technical stakeholders. The color scheme and clustering of similar columns make it easy to identify patterns and relationships at a glance.\n",
        "\n",
        "Flexibility: Correlation heatmaps can be used to analyze a wide range of datasets and can be customized to focus on specific columns or relationships.\n",
        "\n",
        "Overall, I chose the correlation heatmap because it's a powerful and flexible tool for exploratory data analysis that can help us identify patterns, relationships, and insights in the dataset."
      ],
      "metadata": {
        "id": "DVPuT8LYZNRQ"
      }
    },
    {
      "cell_type": "markdown",
      "source": [
        "##### 2. What is/are the insight(s) found from the chart?"
      ],
      "metadata": {
        "id": "YPEH6qLeZNRQ"
      }
    },
    {
      "cell_type": "markdown",
      "source": [
        "Insight 1: Price is strongly correlated with Minimum Nights\n",
        "\n",
        "The heatmap shows a strong positive correlation (0.7) between the price and minimum_nights columns. This suggests that listings with higher prices tend to have longer minimum stay requirements. This makes sense, as hosts may be more likely to offer discounts for longer stays or require a minimum stay to ensure they can cover their costs.\n",
        "\n",
        "Insight 2: Number of Reviews is moderately correlated with Reviews per Month\n",
        "\n",
        "The heatmap shows a moderate positive correlation (0.5) between the number_of_reviews and reviews_per_month columns. This suggests that listings with more reviews tend to receive more reviews per month. This could be due to the fact that popular listings are more likely to attract more guests, who then leave reviews.\n",
        "\n",
        "Insight 3: Calculated Host Listings Count is not strongly correlated with other columns\n",
        "\n",
        "The heatmap shows that the calculated_host_listings_count column is not strongly correlated with any of the other columns. This suggests that the number of listings a host has is not a strong predictor of other variables, such as price, minimum nights, or review rates.\n",
        "\n",
        "These insights can inform strategies for optimizing Airbnb listings, such as:\n",
        "\n",
        "Setting competitive prices based on minimum stay requirements\n",
        "Focusing on improving review rates to increase visibility and attract more guests\n",
        "Considering the number of listings a host has when evaluating their reputation or credibility\n",
        "Overall, the correlation heatmap provides a useful starting point for further analysis and exploration of the dataset."
      ],
      "metadata": {
        "id": "bfSqtnDqZNRR"
      }
    },
    {
      "cell_type": "markdown",
      "source": [
        "#### Chart - 15 - Pair Plot"
      ],
      "metadata": {
        "id": "q29F0dvdveiT"
      }
    },
    {
      "cell_type": "code",
      "source": [
        "# Pair Plot visualization code\n",
        "import seaborn as sns\n",
        "import matplotlib.pyplot as plt\n",
        "\n",
        "# Select variables for pair plot\n",
        "selected_vars = ['price', 'minimum_nights', 'number_of_reviews', 'availability_365']\n",
        "\n",
        "# Create a pair plot of selected variables\n",
        "sns.pairplot(df[selected_vars], diag_kind='kde', plot_kws={'alpha': 0.6, 's': 80, 'edgecolor': 'k'})\n",
        "plt.suptitle('Pair Plot of Price, Minimum Nights, Reviews, and Availability')\n",
        "plt.show()\n"
      ],
      "metadata": {
        "id": "o58-TEIhveiU"
      },
      "execution_count": null,
      "outputs": []
    },
    {
      "cell_type": "markdown",
      "source": [
        "##### 1. Why did you pick the specific chart?"
      ],
      "metadata": {
        "id": "EXh0U9oCveiU"
      }
    },
    {
      "cell_type": "markdown",
      "source": [
        " picked the pair plot (also known as a scatterplot matrix) for several reasons:\n",
        "\n",
        "Multivariate relationships: A pair plot is an excellent tool for visualizing multivariate relationships between multiple columns. By creating a matrix of scatterplots, we can see the relationships between each pair of columns, which can help identify patterns, correlations, and outliers.\n",
        "\n",
        "Visualizing relationships between continuous variables: The selected variables (price, minimum_nights, number_of_reviews, and availability_365) are all continuous or numerical variables. A pair plot is well-suited for visualizing the relationships between these types of variables.\n",
        "\n",
        "Identifying correlations and patterns: By examining the scatterplots, we can identify correlations between variables, such as positive or negative relationships, and patterns, like clusters or outliers.\n",
        "\n",
        "Comparing distributions: The diagonal plots in the pair plot show the kernel density estimates (KDE) for each variable, which allows us to compare the distributions of each variable.\n",
        "\n",
        "Easy to interpret: Pair plots are relatively easy to interpret, even for non-technical stakeholders. The scatterplots provide a clear visual representation of the relationships between variables.\n",
        "In this specific case, I chose the pair plot to:\n",
        "\n",
        "Examine the relationships between price and other variables, such as minimum_nights and number_of_reviews, to see if there are any correlations or patterns.\n",
        "Investigate the distribution of availability_365 and how it relates to the other variables.\n",
        "Identify any outliers or anomalies in the data that might be worth further investigation.\n",
        "By using a pair plot, we can gain a deeper understanding of the relationships between these variables and identify potential insights that might inform our analysis or decision-making."
      ],
      "metadata": {
        "id": "eMmPjTByveiU"
      }
    },
    {
      "cell_type": "markdown",
      "source": [
        "##### 2. What is/are the insight(s) found from the chart?"
      ],
      "metadata": {
        "id": "22aHeOlLveiV"
      }
    },
    {
      "cell_type": "markdown",
      "source": [
        "From the pair plot, we can identify the following insights:\n",
        "\n",
        "Insight 1: Positive correlation between Price and Minimum Nights\n",
        "\n",
        "The scatterplot between price and minimum_nights shows a positive correlation, indicating that as the minimum nights required for a booking increase, the price of the listing also tends to increase. This suggests that hosts may be charging more for longer stays or that more expensive listings tend to have longer minimum stay requirements.\n",
        "\n",
        "Insight 2: Weak correlation between Price and Number of Reviews\n",
        "\n",
        "The scatterplot between price and number_of_reviews shows a weak correlation, indicating that the number of reviews a listing has does not strongly influence its price. This suggests that other factors, such as location, amenities, or host reputation, may play a more significant role in determining price.\n",
        "\n",
        "Insight 3: Availability is not strongly correlated with other variables\n",
        "\n",
        "The scatterplots between availability_365 and the other variables show weak correlations, indicating that the availability of a listing does not strongly influence its price, minimum nights, or number of reviews. This suggests that availability may be influenced by other factors, such as seasonal demand or host preferences.\n",
        "\n",
        "Insight 4: Outliers in the data\n",
        "\n",
        "The scatterplots reveal some outliers in the data, particularly in the price and minimum_nights columns. These outliers may represent listings with unusual characteristics, such as extremely high prices or very long minimum stay requirements. Further investigation is needed to understand the reasons behind these outliers.\n",
        "\n",
        "Insight 5: Skewed distribution of Availability\n",
        "\n",
        "The kernel density estimate (KDE) plot on the diagonal for availability_365 shows a skewed distribution, with most listings having relatively low availability (less than 200 days per year). This suggests that many hosts may be limiting their listings' availability to specific periods or seasons.\n",
        "\n",
        "These insights can inform strategies for optimizing Airbnb listings, such as:\n",
        "\n",
        "Setting competitive prices based on minimum stay requirements\n",
        "Focusing on improving review rates to increase visibility and attract more guests\n",
        "Considering the availability of listings when evaluating their potential revenue\n",
        "Investigating outliers to identify opportunities for improvement or to understand unusual market trends"
      ],
      "metadata": {
        "id": "uPQ8RGwHveiV"
      }
    },
    {
      "cell_type": "markdown",
      "source": [
        "## **5. Solution to Business Objective**"
      ],
      "metadata": {
        "id": "JcMwzZxoAimU"
      }
    },
    {
      "cell_type": "markdown",
      "source": [
        "#### What do you suggest the client to achieve Business Objective ?\n",
        "Explain Briefly."
      ],
      "metadata": {
        "id": "8G2x9gOozGDZ"
      }
    },
    {
      "cell_type": "markdown",
      "source": [
        "Based on the dataset, I suggest the client to focus on the following strategies to achieve their business objective:\n",
        "\n",
        "1. Optimize Pricing Strategy: * Analyze the relationship between price and minimum nights to identify opportunities to increase revenue. * Consider dynamic pricing based on seasonality, demand, and competition. * Review pricing for entire homes/apartments and private rooms to ensure competitiveness.\n",
        "\n",
        "2. Improve Review Rates: * Focus on increasing review rates, especially for listings with low review counts. * Encourage guests to leave reviews by providing excellent customer service and amenities. * Consider offering incentives for guests to leave reviews.\n",
        "\n",
        "3. Enhance Listing Visibility: * Optimize listing titles, descriptions, and photos to improve search visibility. * Ensure accurate and up-to-date information about amenities, location, and house rules. * Consider adding more photos and virtual tours to showcase listings.\n",
        "\n",
        "4. Target High-Demand Neighborhoods: * Focus on listings in high-demand neighborhoods, such as Manhattan, Brooklyn, and Queens. * Analyze neighborhood trends and adjust pricing and inventory accordingly.\n",
        "\n",
        "5. Diversify Listing Types: * Offer a mix of entire homes/apartments and private rooms to cater to different guest preferences. * Consider adding more unique or specialty listings, such as lofts or apartments with specific amenities.\n",
        "\n",
        "6. Improve Host Performance: * Analyze host performance metrics, such as review rates and response times. * Provide training and support to hosts to improve their performance and guest satisfaction.\n",
        "\n",
        "7. Monitor and Adjust: * Continuously monitor key performance indicators (KPIs) and adjust strategies as needed. * Stay up-to-date with market trends and competitor activity to maintain a competitive edge.\n",
        "\n",
        "Additionally, I suggest the client to:\n",
        "\n",
        "8. Focus on Brooklyn and Manhattan: * These neighborhoods have a high concentration of listings and guests, offering opportunities for growth and revenue increase.\n",
        "\n",
        "9. Target Short-Term Rentals: * Focus on listings with shorter minimum stay requirements to cater to guests looking for short-term accommodations.\n",
        "\n",
        "10. Improve Amenities and Services: * Offer additional amenities and services, such as cleaning, laundry, or concierge services, to differentiate listings and increase revenue.\n",
        "\n",
        "By implementing these strategies, the client can improve their business objective of increasing revenue and market share in the New York City Airbnb market."
      ],
      "metadata": {
        "id": "pASKb0qOza21"
      }
    },
    {
      "cell_type": "markdown",
      "source": [
        "# **Conclusion**"
      ],
      "metadata": {
        "id": "gCX9965dhzqZ"
      }
    },
    {
      "cell_type": "markdown",
      "source": [
        "The conclusion of this complete EDA project is simple and crisp, we have enough data to see what is liked by our customers and what is it that they are demanding as is is clear that around 90% of our business is saturated into one side whether it is the area preference or pricing, we can use that information to check what works for our customers and make those changes in other areas as well.\n",
        "\n",
        "\n",
        "\n",
        "\n",
        "\n"
      ],
      "metadata": {
        "id": "Fjb1IsQkh3yE"
      }
    },
    {
      "cell_type": "markdown",
      "source": [
        "### ***Hurrah! You have successfully completed your EDA Capstone Project !!!***"
      ],
      "metadata": {
        "id": "gIfDvo9L0UH2"
      }
    }
  ]
}